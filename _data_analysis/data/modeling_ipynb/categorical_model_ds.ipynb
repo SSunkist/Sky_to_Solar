{
 "cells": [
  {
   "cell_type": "code",
   "execution_count": 1,
   "id": "2c1bc89d-fc8b-4085-8247-eb33fa162c77",
   "metadata": {
    "tags": []
   },
   "outputs": [
    {
     "name": "stdout",
     "output_type": "stream",
     "text": [
      "WARNING:tensorflow:From C:\\Users\\user\\anaconda3\\Lib\\site-packages\\keras\\src\\losses.py:2976: The name tf.losses.sparse_softmax_cross_entropy is deprecated. Please use tf.compat.v1.losses.sparse_softmax_cross_entropy instead.\n",
      "\n"
     ]
    }
   ],
   "source": [
    "import numpy as np\n",
    "import pandas as pd\n",
    "\n",
    "import os\n",
    "\n",
    "import matplotlib.pyplot as plt\n",
    "\n",
    "import cv2 as cv\n",
    "\n",
    "from sklearn.model_selection import train_test_split \n",
    "\n",
    "from tensorflow.keras.utils import to_categorical\n",
    "\n",
    "from tensorflow.keras.applications import VGG16\n",
    "\n",
    "from tensorflow.keras.models import Sequential\n",
    "from tensorflow.keras.layers import Dense, Flatten, BatchNormalization, Dropout\n",
    "\n",
    "from tensorflow.keras.models import save_model, load_model\n",
    "\n",
    "from tensorflow.keras.optimizers import Adam\n",
    "from tensorflow.keras.preprocessing.image import ImageDataGenerator\n",
    "from tensorflow.keras.regularizers import l2"
   ]
  },
  {
   "cell_type": "code",
   "execution_count": 2,
   "id": "49fca932-8046-40d2-b01e-b6396be1b50c",
   "metadata": {
    "tags": []
   },
   "outputs": [
    {
     "name": "stderr",
     "output_type": "stream",
     "text": [
      "C:\\Users\\user\\AppData\\Local\\Temp\\ipykernel_22340\\1493777463.py:5: UserWarning: Could not infer format, so each element will be parsed individually, falling back to `dateutil`. To ensure parsing is consistent and as-expected, please specify a format.\n",
      "  power_10_df['Date and Time'] = pd.to_datetime(power_10_df['Date and Time'])\n",
      "C:\\Users\\user\\AppData\\Local\\Temp\\ipykernel_22340\\1493777463.py:6: UserWarning: Could not infer format, so each element will be parsed individually, falling back to `dateutil`. To ensure parsing is consistent and as-expected, please specify a format.\n",
      "  power_11_df['Date and Time'] = pd.to_datetime(power_11_df['Date and Time'])\n",
      "C:\\Users\\user\\AppData\\Local\\Temp\\ipykernel_22340\\1493777463.py:7: UserWarning: Could not infer format, so each element will be parsed individually, falling back to `dateutil`. To ensure parsing is consistent and as-expected, please specify a format.\n",
      "  power_12_df['Date and Time'] = pd.to_datetime(power_12_df['Date and Time'])\n"
     ]
    },
    {
     "data": {
      "text/html": [
       "<div>\n",
       "<style scoped>\n",
       "    .dataframe tbody tr th:only-of-type {\n",
       "        vertical-align: middle;\n",
       "    }\n",
       "\n",
       "    .dataframe tbody tr th {\n",
       "        vertical-align: top;\n",
       "    }\n",
       "\n",
       "    .dataframe thead th {\n",
       "        text-align: right;\n",
       "    }\n",
       "</style>\n",
       "<table border=\"1\" class=\"dataframe\">\n",
       "  <thead>\n",
       "    <tr style=\"text-align: right;\">\n",
       "      <th></th>\n",
       "      <th>AVG power</th>\n",
       "      <th>DateTime</th>\n",
       "    </tr>\n",
       "  </thead>\n",
       "  <tbody>\n",
       "    <tr>\n",
       "      <th>0</th>\n",
       "      <td>0.0</td>\n",
       "      <td>2019-09-10 00:00:00</td>\n",
       "    </tr>\n",
       "    <tr>\n",
       "      <th>1</th>\n",
       "      <td>0.0</td>\n",
       "      <td>2019-09-10 00:01:00</td>\n",
       "    </tr>\n",
       "    <tr>\n",
       "      <th>2</th>\n",
       "      <td>0.0</td>\n",
       "      <td>2019-09-10 00:02:00</td>\n",
       "    </tr>\n",
       "    <tr>\n",
       "      <th>3</th>\n",
       "      <td>0.0</td>\n",
       "      <td>2019-09-10 00:03:00</td>\n",
       "    </tr>\n",
       "    <tr>\n",
       "      <th>4</th>\n",
       "      <td>0.0</td>\n",
       "      <td>2019-09-10 00:04:00</td>\n",
       "    </tr>\n",
       "    <tr>\n",
       "      <th>...</th>\n",
       "      <td>...</td>\n",
       "      <td>...</td>\n",
       "    </tr>\n",
       "    <tr>\n",
       "      <th>4083</th>\n",
       "      <td>0.0</td>\n",
       "      <td>2019-09-12 20:03:00</td>\n",
       "    </tr>\n",
       "    <tr>\n",
       "      <th>4084</th>\n",
       "      <td>0.0</td>\n",
       "      <td>2019-09-12 20:04:00</td>\n",
       "    </tr>\n",
       "    <tr>\n",
       "      <th>4085</th>\n",
       "      <td>0.0</td>\n",
       "      <td>2019-09-12 20:05:00</td>\n",
       "    </tr>\n",
       "    <tr>\n",
       "      <th>4086</th>\n",
       "      <td>0.0</td>\n",
       "      <td>2019-09-12 20:06:00</td>\n",
       "    </tr>\n",
       "    <tr>\n",
       "      <th>4087</th>\n",
       "      <td>0.0</td>\n",
       "      <td>2019-09-12 20:07:00</td>\n",
       "    </tr>\n",
       "  </tbody>\n",
       "</table>\n",
       "<p>4088 rows × 2 columns</p>\n",
       "</div>"
      ],
      "text/plain": [
       "      AVG power            DateTime\n",
       "0           0.0 2019-09-10 00:00:00\n",
       "1           0.0 2019-09-10 00:01:00\n",
       "2           0.0 2019-09-10 00:02:00\n",
       "3           0.0 2019-09-10 00:03:00\n",
       "4           0.0 2019-09-10 00:04:00\n",
       "...         ...                 ...\n",
       "4083        0.0 2019-09-12 20:03:00\n",
       "4084        0.0 2019-09-12 20:04:00\n",
       "4085        0.0 2019-09-12 20:05:00\n",
       "4086        0.0 2019-09-12 20:06:00\n",
       "4087        0.0 2019-09-12 20:07:00\n",
       "\n",
       "[4088 rows x 2 columns]"
      ]
     },
     "execution_count": 2,
     "metadata": {},
     "output_type": "execute_result"
    }
   ],
   "source": [
    "power_10_df = pd.read_csv(\"C:\\\\Users\\\\user\\\\Desktop\\\\sprint_test_II\\\\_data_analysis\\\\Low-res sky images kaggle\\\\Power measurements\\\\2019_09_10.csv\")\n",
    "power_11_df = pd.read_csv(\"C:\\\\Users\\\\user\\\\Desktop\\\\sprint_test_II\\\\_data_analysis\\\\Low-res sky images kaggle\\\\Power measurements\\\\2019_09_11.csv\")\n",
    "power_12_df = pd.read_csv(\"C:\\\\Users\\\\user\\\\Desktop\\\\sprint_test_II\\\\_data_analysis\\\\Low-res sky images kaggle\\\\Power measurements\\\\2019_09_12.csv\")\n",
    "\n",
    "power_10_df['Date and Time'] = pd.to_datetime(power_10_df['Date and Time'])\n",
    "power_11_df['Date and Time'] = pd.to_datetime(power_11_df['Date and Time'])\n",
    "power_12_df['Date and Time'] = pd.to_datetime(power_12_df['Date and Time'])\n",
    "\n",
    "power_df = pd.concat([power_10_df, power_11_df, power_12_df], axis = 0)\n",
    "power_df.dropna(inplace=True)\n",
    "\n",
    "power_df_avg = power_df.groupby('Date and Time').mean()\n",
    "power_df_avg          \n",
    "\n",
    "power_df_avg['DateTime'] = power_df_avg.index\n",
    "power_df_avg = power_df_avg.reset_index(drop=True)\n",
    "power_df_avg       "
   ]
  },
  {
   "cell_type": "code",
   "execution_count": 3,
   "id": "4e314241-1d55-41ab-a7e7-d24cc62a925f",
   "metadata": {
    "tags": []
   },
   "outputs": [],
   "source": [
    "time_10_df = pd.read_csv(\"C:\\\\Users\\\\user\\\\Desktop\\\\sprint_test_II\\\\_data_analysis\\\\Low-res sky images kaggle\\\\Sky images\\\\10_09_2019\\\\Time.csv\")\n",
    "time_11_df = pd.read_csv(\"C:\\\\Users\\\\user\\\\Desktop\\\\sprint_test_II\\\\_data_analysis\\\\Low-res sky images kaggle\\\\Sky images\\\\11_09_2019\\\\Time.csv\")\n",
    "time_12_df = pd.read_csv(\"C:\\\\Users\\\\user\\\\Desktop\\\\sprint_test_II\\\\_data_analysis\\\\Low-res sky images kaggle\\\\Sky images\\\\12_09_2019\\\\Time.csv\")\n",
    "\n",
    "time_10_df = time_10_df[:-1]\n",
    "time_11_df = time_11_df[:-1]\n",
    "time_12_df = time_12_df[:-1]\n",
    "\n",
    "time_10_df['Date and Time'] = pd.to_datetime(time_10_df[['Hours', 'Minutes', 'Seconds']].assign(Day=10, Month=9, Year=2019))\n",
    "time_10_df = time_10_df.drop(['Hours', 'Minutes', 'Seconds'], axis=1)\n",
    "\n",
    "time_11_df['Date and Time'] = pd.to_datetime(time_11_df[['Hours', 'Minutes', 'Seconds']].assign(Day=11, Month=9, Year=2019))\n",
    "time_11_df = time_11_df.drop(['Hours', 'Minutes', 'Seconds'], axis=1)\n",
    "\n",
    "time_12_df['Date and Time'] = pd.to_datetime(time_12_df[['Hours', 'Minutes', 'Seconds']].assign(Day=12, Month=9, Year=2019))\n",
    "time_12_df = time_12_df.drop(['Hours', 'Minutes', 'Seconds'], axis=1)\n",
    "\n",
    "folder = \"C:\\\\Users\\\\user\\\\Desktop\\\\sprint_test_II\\\\_data_analysis\\\\Low-res sky images kaggle\\\\Sky images\\\\\"\n",
    "\n",
    "time_10_df['FilePath'] = [os.path.join(folder, '10_09_2019\\\\Images\\\\' + str(image_number) + '.jpg') for image_number in time_10_df['Image Number']]\n",
    "time_11_df['FilePath'] = [os.path.join(folder, '11_09_2019\\\\Images\\\\' + str(image_number) + '.jpg') for image_number in time_10_df['Image Number']]\n",
    "time_12_df['FilePath'] = [os.path.join(folder, '12_09_2019\\\\Images\\\\' + str(image_number) + '.jpg') for image_number in time_10_df['Image Number']]\n",
    "\n",
    "time_10_df.dropna(inplace=True)\n",
    "time_11_df.dropna(inplace=True)\n",
    "time_12_df.dropna(inplace=True)"
   ]
  },
  {
   "cell_type": "code",
   "execution_count": 4,
   "id": "16d378dd-559a-4534-a700-ebc102d0a840",
   "metadata": {
    "tags": []
   },
   "outputs": [
    {
     "data": {
      "text/html": [
       "<div>\n",
       "<style scoped>\n",
       "    .dataframe tbody tr th:only-of-type {\n",
       "        vertical-align: middle;\n",
       "    }\n",
       "\n",
       "    .dataframe tbody tr th {\n",
       "        vertical-align: top;\n",
       "    }\n",
       "\n",
       "    .dataframe thead th {\n",
       "        text-align: right;\n",
       "    }\n",
       "</style>\n",
       "<table border=\"1\" class=\"dataframe\">\n",
       "  <thead>\n",
       "    <tr style=\"text-align: right;\">\n",
       "      <th></th>\n",
       "      <th>DateTime</th>\n",
       "      <th>FilePaths</th>\n",
       "      <th>NumberFiles</th>\n",
       "    </tr>\n",
       "  </thead>\n",
       "  <tbody>\n",
       "    <tr>\n",
       "      <th>0</th>\n",
       "      <td>2019-09-10 08:00:00</td>\n",
       "      <td>C:\\Users\\user\\Desktop\\sprint_test_II\\_data_ana...</td>\n",
       "      <td>5</td>\n",
       "    </tr>\n",
       "    <tr>\n",
       "      <th>1</th>\n",
       "      <td>2019-09-10 08:01:00</td>\n",
       "      <td>C:\\Users\\user\\Desktop\\sprint_test_II\\_data_ana...</td>\n",
       "      <td>6</td>\n",
       "    </tr>\n",
       "    <tr>\n",
       "      <th>2</th>\n",
       "      <td>2019-09-10 08:02:00</td>\n",
       "      <td>C:\\Users\\user\\Desktop\\sprint_test_II\\_data_ana...</td>\n",
       "      <td>6</td>\n",
       "    </tr>\n",
       "    <tr>\n",
       "      <th>3</th>\n",
       "      <td>2019-09-10 08:03:00</td>\n",
       "      <td>C:\\Users\\user\\Desktop\\sprint_test_II\\_data_ana...</td>\n",
       "      <td>6</td>\n",
       "    </tr>\n",
       "    <tr>\n",
       "      <th>4</th>\n",
       "      <td>2019-09-10 08:04:00</td>\n",
       "      <td>C:\\Users\\user\\Desktop\\sprint_test_II\\_data_ana...</td>\n",
       "      <td>6</td>\n",
       "    </tr>\n",
       "    <tr>\n",
       "      <th>...</th>\n",
       "      <td>...</td>\n",
       "      <td>...</td>\n",
       "      <td>...</td>\n",
       "    </tr>\n",
       "    <tr>\n",
       "      <th>496</th>\n",
       "      <td>2019-09-12 16:16:00</td>\n",
       "      <td>C:\\Users\\user\\Desktop\\sprint_test_II\\_data_ana...</td>\n",
       "      <td>6</td>\n",
       "    </tr>\n",
       "    <tr>\n",
       "      <th>497</th>\n",
       "      <td>2019-09-12 16:17:00</td>\n",
       "      <td>C:\\Users\\user\\Desktop\\sprint_test_II\\_data_ana...</td>\n",
       "      <td>6</td>\n",
       "    </tr>\n",
       "    <tr>\n",
       "      <th>498</th>\n",
       "      <td>2019-09-12 16:18:00</td>\n",
       "      <td>C:\\Users\\user\\Desktop\\sprint_test_II\\_data_ana...</td>\n",
       "      <td>6</td>\n",
       "    </tr>\n",
       "    <tr>\n",
       "      <th>499</th>\n",
       "      <td>2019-09-12 16:19:00</td>\n",
       "      <td>C:\\Users\\user\\Desktop\\sprint_test_II\\_data_ana...</td>\n",
       "      <td>6</td>\n",
       "    </tr>\n",
       "    <tr>\n",
       "      <th>500</th>\n",
       "      <td>2019-09-12 16:20:00</td>\n",
       "      <td>C:\\Users\\user\\Desktop\\sprint_test_II\\_data_ana...</td>\n",
       "      <td>4</td>\n",
       "    </tr>\n",
       "  </tbody>\n",
       "</table>\n",
       "<p>1503 rows × 3 columns</p>\n",
       "</div>"
      ],
      "text/plain": [
       "               DateTime                                          FilePaths  \\\n",
       "0   2019-09-10 08:00:00  C:\\Users\\user\\Desktop\\sprint_test_II\\_data_ana...   \n",
       "1   2019-09-10 08:01:00  C:\\Users\\user\\Desktop\\sprint_test_II\\_data_ana...   \n",
       "2   2019-09-10 08:02:00  C:\\Users\\user\\Desktop\\sprint_test_II\\_data_ana...   \n",
       "3   2019-09-10 08:03:00  C:\\Users\\user\\Desktop\\sprint_test_II\\_data_ana...   \n",
       "4   2019-09-10 08:04:00  C:\\Users\\user\\Desktop\\sprint_test_II\\_data_ana...   \n",
       "..                  ...                                                ...   \n",
       "496 2019-09-12 16:16:00  C:\\Users\\user\\Desktop\\sprint_test_II\\_data_ana...   \n",
       "497 2019-09-12 16:17:00  C:\\Users\\user\\Desktop\\sprint_test_II\\_data_ana...   \n",
       "498 2019-09-12 16:18:00  C:\\Users\\user\\Desktop\\sprint_test_II\\_data_ana...   \n",
       "499 2019-09-12 16:19:00  C:\\Users\\user\\Desktop\\sprint_test_II\\_data_ana...   \n",
       "500 2019-09-12 16:20:00  C:\\Users\\user\\Desktop\\sprint_test_II\\_data_ana...   \n",
       "\n",
       "     NumberFiles  \n",
       "0              5  \n",
       "1              6  \n",
       "2              6  \n",
       "3              6  \n",
       "4              6  \n",
       "..           ...  \n",
       "496            6  \n",
       "497            6  \n",
       "498            6  \n",
       "499            6  \n",
       "500            4  \n",
       "\n",
       "[1503 rows x 3 columns]"
      ]
     },
     "execution_count": 4,
     "metadata": {},
     "output_type": "execute_result"
    }
   ],
   "source": [
    "time_10_df['DateTime'] = time_10_df['Date and Time'].dt.floor('min')\n",
    "time_11_df['DateTime'] = time_11_df['Date and Time'].dt.floor('min')\n",
    "time_12_df['DateTime'] = time_12_df['Date and Time'].dt.floor('min')\n",
    "\n",
    "grouped = time_10_df.groupby('DateTime')\n",
    "grouped_11 = time_11_df.groupby('DateTime')\n",
    "grouped_12 = time_12_df.groupby('DateTime')\n",
    "\n",
    "aggregated = grouped['FilePath'].agg(lambda x: ','.join(x))\n",
    "aggregated_11 = grouped_11['FilePath'].agg(lambda x: ','.join(x))\n",
    "aggregated_12 = grouped_12['FilePath'].agg(lambda x: ','.join(x))\n",
    "\n",
    "result = aggregated.reset_index().rename(columns={'FilePath': 'FilePaths'})\n",
    "result_11 = aggregated_11.reset_index().rename(columns={'FilePath': 'FilePaths'})\n",
    "result_12 = aggregated_12.reset_index().rename(columns={'FilePath': 'FilePaths'})\n",
    "\n",
    "result['NumberFiles'] = result['FilePaths'].str.split(',').str.len()\n",
    "result_11['NumberFiles'] = result_11['FilePaths'].str.split(',').str.len()\n",
    "result_12['NumberFiles'] = result_12['FilePaths'].str.split(',').str.len()\n",
    "\n",
    "images_df = pd.concat([result, result_11, result_12], axis = 0)\n",
    "images_df"
   ]
  },
  {
   "cell_type": "code",
   "execution_count": 5,
   "id": "b5850446-a95e-4f6a-9468-e1534f7ed0c7",
   "metadata": {
    "tags": []
   },
   "outputs": [
    {
     "data": {
      "text/plain": [
       "'C:\\\\Users\\\\user\\\\Desktop\\\\sprint_test_II\\\\_data_analysis\\\\Low-res sky images kaggle\\\\Sky images\\\\10_09_2019\\\\Images\\\\1.jpg,C:\\\\Users\\\\user\\\\Desktop\\\\sprint_test_II\\\\_data_analysis\\\\Low-res sky images kaggle\\\\Sky images\\\\10_09_2019\\\\Images\\\\2.jpg,C:\\\\Users\\\\user\\\\Desktop\\\\sprint_test_II\\\\_data_analysis\\\\Low-res sky images kaggle\\\\Sky images\\\\10_09_2019\\\\Images\\\\3.jpg,C:\\\\Users\\\\user\\\\Desktop\\\\sprint_test_II\\\\_data_analysis\\\\Low-res sky images kaggle\\\\Sky images\\\\10_09_2019\\\\Images\\\\4.jpg,C:\\\\Users\\\\user\\\\Desktop\\\\sprint_test_II\\\\_data_analysis\\\\Low-res sky images kaggle\\\\Sky images\\\\10_09_2019\\\\Images\\\\5.jpg'"
      ]
     },
     "execution_count": 5,
     "metadata": {},
     "output_type": "execute_result"
    }
   ],
   "source": [
    "merged_df = pd.merge(power_df_avg, images_df, on='DateTime')\n",
    "merged_df\n",
    "merged_df['FilePaths'][0]"
   ]
  },
  {
   "cell_type": "code",
   "execution_count": 6,
   "id": "e29bb75b-4a3e-45e3-a86c-683b8b72e965",
   "metadata": {
    "tags": []
   },
   "outputs": [],
   "source": [
    "bins = [0, 500, 1000, 1500, 2000, 2500, 3000, 3500, 4000, 4500, 5000, 5500, 6000, 6500, 7000]\n",
    "labels = ['0', '1', '2', '3', '4', '5', '6', '7', '8', '9', '10', '11', '12', '13']\n",
    "merged_df['category'] = pd.cut(merged_df['AVG power'], bins=bins, labels=labels)\n",
    "\n",
    "# count_occurrences = np.count_nonzero(merged_df['category'] == '11')\n",
    "# print(count_occurrences)"
   ]
  },
  {
   "cell_type": "code",
   "execution_count": 7,
   "id": "a129fac5-5ee8-4ae3-92cb-80459af77b2f",
   "metadata": {
    "tags": []
   },
   "outputs": [
    {
     "data": {
      "text/plain": [
       "8997"
      ]
     },
     "execution_count": 7,
     "metadata": {},
     "output_type": "execute_result"
    }
   ],
   "source": [
    "file_list= []\n",
    "for i in range(merged_df.shape[0]):\n",
    "    for j in range( merged_df['NumberFiles'][i]):\n",
    "        file=merged_df['FilePaths'][i].split(',')[j]\n",
    "        file_list.append(file)\n",
    "len(file_list)"
   ]
  },
  {
   "cell_type": "code",
   "execution_count": 8,
   "id": "8271b6b5-7693-429e-a3aa-dbfe566b7cc1",
   "metadata": {
    "tags": []
   },
   "outputs": [
    {
     "data": {
      "text/plain": [
       "8997"
      ]
     },
     "execution_count": 8,
     "metadata": {},
     "output_type": "execute_result"
    }
   ],
   "source": [
    "y=[]\n",
    "for i in range(merged_df.shape[0]):\n",
    "    for j in range( merged_df['NumberFiles'][i]):\n",
    "        y_=merged_df['category'][i]\n",
    "        y.append(y_)\n",
    "len(y)  "
   ]
  },
  {
   "cell_type": "code",
   "execution_count": 9,
   "id": "2eeeb720-1e14-42c7-9330-e6a88caced22",
   "metadata": {
    "tags": []
   },
   "outputs": [],
   "source": [
    "X=np.zeros((8997,150,150,3))"
   ]
  },
  {
   "cell_type": "code",
   "execution_count": 10,
   "id": "e7c26f38-a20f-4297-bc95-8514c9d30b6f",
   "metadata": {
    "tags": []
   },
   "outputs": [],
   "source": [
    "for idx,file in enumerate(file_list):\n",
    "    dt=plt.imread(file)\n",
    "    dt=cv.resize(dt,(150,150)).reshape(1,150,150,-1)\n",
    "    X[idx] = dt[:,:,:,:3]"
   ]
  },
  {
   "cell_type": "code",
   "execution_count": 11,
   "id": "16b68faf-77a6-4e14-9331-4438bc022c8e",
   "metadata": {
    "tags": []
   },
   "outputs": [],
   "source": [
    "X_, X_test, y_, y_test=train_test_split(X,y,test_size=.2)\n",
    "X_train, X_validation, y_train, y_validation=train_test_split(X_,y_)"
   ]
  },
  {
   "cell_type": "code",
   "execution_count": 12,
   "id": "cbc79c86-d517-41a2-90a3-26a44b8a50ac",
   "metadata": {
    "tags": []
   },
   "outputs": [],
   "source": [
    "y_train = to_categorical(y_train)\n",
    "y_validation = to_categorical(y_validation)\n",
    "y_test = to_categorical(y_test)"
   ]
  },
  {
   "cell_type": "code",
   "execution_count": 13,
   "id": "53862eb6-9b7d-475b-9f29-c8ee94e31a2d",
   "metadata": {
    "tags": []
   },
   "outputs": [
    {
     "data": {
      "text/plain": [
       "((150, 150, 3), (13,))"
      ]
     },
     "execution_count": 13,
     "metadata": {},
     "output_type": "execute_result"
    }
   ],
   "source": [
    "X_train[0].shape, y_train[0].shape"
   ]
  },
  {
   "cell_type": "code",
   "execution_count": 14,
   "id": "b167e130-7c2d-4e4e-84dc-9a466ddad341",
   "metadata": {
    "tags": []
   },
   "outputs": [
    {
     "name": "stdout",
     "output_type": "stream",
     "text": [
      "WARNING:tensorflow:From C:\\Users\\user\\anaconda3\\Lib\\site-packages\\keras\\src\\backend.py:1398: The name tf.executing_eagerly_outside_functions is deprecated. Please use tf.compat.v1.executing_eagerly_outside_functions instead.\n",
      "\n",
      "WARNING:tensorflow:From C:\\Users\\user\\anaconda3\\Lib\\site-packages\\keras\\src\\layers\\pooling\\max_pooling2d.py:161: The name tf.nn.max_pool is deprecated. Please use tf.nn.max_pool2d instead.\n",
      "\n"
     ]
    }
   ],
   "source": [
    "conv_base=VGG16(include_top=False, input_shape=(150,150,3))"
   ]
  },
  {
   "cell_type": "code",
   "execution_count": 17,
   "id": "2f15be21-10ab-40a3-b1c0-36e3eacb4744",
   "metadata": {},
   "outputs": [],
   "source": [
    "# 훈련 데이터에 대한 데이터 증강\n",
    "train_datagen = ImageDataGenerator(rotation_range=20, horizontal_flip=True, vertical_flip=True)\n",
    "train_data = train_datagen.flow(X_train, y_train, batch_size=128)\n",
    "\n",
    "# 검증 및 테스트 데이터는 증강을 적용하지 않음\n",
    "validation_datagen = ImageDataGenerator()\n",
    "validation_data = validation_datagen.flow(X_validation, y_validation, batch_size=128)\n",
    "\n",
    "test_datagen = ImageDataGenerator()\n",
    "test_data = test_datagen.flow(X_test, y_test, batch_size=64)\n",
    "\n",
    "\n",
    "# ImageDataGen=ImageDataGenerator(rotation_range=20, horizontal_flip=True,vertical_flip=True) \n",
    "\n",
    "# train_data=ImageDataGen.flow(X_train, y_train, batch_size=64)\n",
    "# validation_data=ImageDataGen.flow(X_validation, y_validation, batch_size=32)\n",
    "# test_data=ImageDataGen.flow(X_test, y_test, batch_size=32)"
   ]
  },
  {
   "cell_type": "code",
   "execution_count": 18,
   "id": "ebf41291-4a22-4acf-a1f7-19b5fd558019",
   "metadata": {
    "tags": []
   },
   "outputs": [
    {
     "name": "stdout",
     "output_type": "stream",
     "text": [
      "169/169 [==============================] - 108s 632ms/step\n",
      "57/57 [==============================] - 35s 617ms/step\n"
     ]
    }
   ],
   "source": [
    "X_train_trans=conv_base.predict(X_train)\n",
    "X_validation_trans=conv_base.predict(X_validation)"
   ]
  },
  {
   "cell_type": "code",
   "execution_count": 19,
   "id": "ea65310d-984f-4843-a2ac-e8f6053b2bd5",
   "metadata": {
    "tags": []
   },
   "outputs": [
    {
     "data": {
      "text/plain": [
       "(5397, 4, 4, 512)"
      ]
     },
     "execution_count": 19,
     "metadata": {},
     "output_type": "execute_result"
    }
   ],
   "source": [
    "X_train_trans.shape"
   ]
  },
  {
   "cell_type": "code",
   "execution_count": 20,
   "id": "8e853fce-517f-479c-945c-58f30c4ff72d",
   "metadata": {
    "tags": []
   },
   "outputs": [],
   "source": [
    "model = Sequential([\n",
    "    Flatten(input_shape=X_train_trans.shape[1:]),\n",
    "    Dense(518, activation='relu'),\n",
    "    BatchNormalization(),\n",
    "    Dropout(0.5),  \n",
    "    Dense(256, activation='relu'),\n",
    "    BatchNormalization(),\n",
    "    Dropout(0.4),  \n",
    "    Dense(128, activation='relu'),\n",
    "    BatchNormalization(),\n",
    "    Dropout(0.3),\n",
    "    Dense(64, activation='relu'),\n",
    "    BatchNormalization(),\n",
    "    Dropout(0.2),\n",
    "    Dense(32, activation='relu'),\n",
    "    BatchNormalization(),\n",
    "    Dense(16, activation='relu'),\n",
    "    BatchNormalization(), \n",
    "    Dense(13, activation='softmax')\n",
    "])"
   ]
  },
  {
   "cell_type": "code",
   "execution_count": 21,
   "id": "f9312305-336f-4ecd-b3b7-e0297390ba62",
   "metadata": {
    "tags": []
   },
   "outputs": [],
   "source": [
    "optimizer = Adam(learning_rate=0.001)\n",
    "loss='categorical_crossentropy'\n",
    "metrics='accuracy'\n",
    "model.compile(optimizer=optimizer,loss=loss,metrics=metrics)"
   ]
  },
  {
   "cell_type": "code",
   "execution_count": 22,
   "id": "1712c336-cc8a-48d2-90b0-4eafafdfa564",
   "metadata": {
    "tags": []
   },
   "outputs": [
    {
     "data": {
      "text/plain": [
       "(1800, 13)"
      ]
     },
     "execution_count": 22,
     "metadata": {},
     "output_type": "execute_result"
    }
   ],
   "source": [
    "y_validation.shape"
   ]
  },
  {
   "cell_type": "code",
   "execution_count": 23,
   "id": "14f5e0d1-53b4-40db-990f-e62dfb3824d4",
   "metadata": {
    "tags": []
   },
   "outputs": [
    {
     "name": "stdout",
     "output_type": "stream",
     "text": [
      "Epoch 1/200\n",
      "WARNING:tensorflow:From C:\\Users\\user\\anaconda3\\Lib\\site-packages\\keras\\src\\utils\\tf_utils.py:492: The name tf.ragged.RaggedTensorValue is deprecated. Please use tf.compat.v1.ragged.RaggedTensorValue instead.\n",
      "\n",
      "WARNING:tensorflow:From C:\\Users\\user\\anaconda3\\Lib\\site-packages\\keras\\src\\engine\\base_layer_utils.py:384: The name tf.executing_eagerly_outside_functions is deprecated. Please use tf.compat.v1.executing_eagerly_outside_functions instead.\n",
      "\n",
      "43/43 [==============================] - 6s 53ms/step - loss: 2.2806 - accuracy: 0.3011 - val_loss: 2.3855 - val_accuracy: 0.2839\n",
      "Epoch 2/200\n",
      "43/43 [==============================] - 2s 47ms/step - loss: 1.6920 - accuracy: 0.4777 - val_loss: 1.6767 - val_accuracy: 0.4772\n",
      "Epoch 3/200\n",
      "43/43 [==============================] - 2s 47ms/step - loss: 1.3983 - accuracy: 0.5553 - val_loss: 1.1264 - val_accuracy: 0.6228\n",
      "Epoch 4/200\n",
      "43/43 [==============================] - 2s 47ms/step - loss: 1.1813 - accuracy: 0.6165 - val_loss: 0.9470 - val_accuracy: 0.6689\n",
      "Epoch 5/200\n",
      "43/43 [==============================] - 2s 46ms/step - loss: 1.0381 - accuracy: 0.6476 - val_loss: 0.8162 - val_accuracy: 0.7094\n",
      "Epoch 6/200\n",
      "43/43 [==============================] - 2s 46ms/step - loss: 0.9312 - accuracy: 0.6841 - val_loss: 0.7406 - val_accuracy: 0.7344\n",
      "Epoch 7/200\n",
      "43/43 [==============================] - 2s 48ms/step - loss: 0.8440 - accuracy: 0.7163 - val_loss: 0.6761 - val_accuracy: 0.7761\n",
      "Epoch 8/200\n",
      "43/43 [==============================] - 2s 47ms/step - loss: 0.7829 - accuracy: 0.7310 - val_loss: 0.6401 - val_accuracy: 0.7800\n",
      "Epoch 9/200\n",
      "43/43 [==============================] - 2s 47ms/step - loss: 0.7076 - accuracy: 0.7623 - val_loss: 0.6431 - val_accuracy: 0.7683\n",
      "Epoch 10/200\n",
      "43/43 [==============================] - 2s 46ms/step - loss: 0.6674 - accuracy: 0.7658 - val_loss: 0.5871 - val_accuracy: 0.7994\n",
      "Epoch 11/200\n",
      "43/43 [==============================] - 2s 47ms/step - loss: 0.6152 - accuracy: 0.7901 - val_loss: 0.5102 - val_accuracy: 0.8183\n",
      "Epoch 12/200\n",
      "43/43 [==============================] - 2s 47ms/step - loss: 0.5741 - accuracy: 0.8010 - val_loss: 0.5123 - val_accuracy: 0.8267\n",
      "Epoch 13/200\n",
      "43/43 [==============================] - 2s 47ms/step - loss: 0.5723 - accuracy: 0.7988 - val_loss: 0.5418 - val_accuracy: 0.8244\n",
      "Epoch 14/200\n",
      "43/43 [==============================] - 2s 50ms/step - loss: 0.5517 - accuracy: 0.8082 - val_loss: 0.4863 - val_accuracy: 0.8372\n",
      "Epoch 15/200\n",
      "43/43 [==============================] - 2s 51ms/step - loss: 0.5168 - accuracy: 0.8212 - val_loss: 0.4716 - val_accuracy: 0.8411\n",
      "Epoch 16/200\n",
      "43/43 [==============================] - 2s 48ms/step - loss: 0.4981 - accuracy: 0.8234 - val_loss: 0.4665 - val_accuracy: 0.8289\n",
      "Epoch 17/200\n",
      "43/43 [==============================] - 2s 50ms/step - loss: 0.4754 - accuracy: 0.8293 - val_loss: 0.4304 - val_accuracy: 0.8483\n",
      "Epoch 18/200\n",
      "43/43 [==============================] - 2s 49ms/step - loss: 0.4644 - accuracy: 0.8419 - val_loss: 0.4084 - val_accuracy: 0.8567\n",
      "Epoch 19/200\n",
      "43/43 [==============================] - 2s 48ms/step - loss: 0.4438 - accuracy: 0.8445 - val_loss: 0.4409 - val_accuracy: 0.8494\n",
      "Epoch 20/200\n",
      "43/43 [==============================] - 2s 49ms/step - loss: 0.4256 - accuracy: 0.8488 - val_loss: 0.4652 - val_accuracy: 0.8522\n",
      "Epoch 21/200\n",
      "43/43 [==============================] - 2s 48ms/step - loss: 0.4185 - accuracy: 0.8558 - val_loss: 0.4590 - val_accuracy: 0.8461\n",
      "Epoch 22/200\n",
      "43/43 [==============================] - 2s 49ms/step - loss: 0.3945 - accuracy: 0.8618 - val_loss: 0.4180 - val_accuracy: 0.8489\n",
      "Epoch 23/200\n",
      "43/43 [==============================] - 2s 49ms/step - loss: 0.3941 - accuracy: 0.8623 - val_loss: 0.4430 - val_accuracy: 0.8617\n",
      "Epoch 24/200\n",
      "43/43 [==============================] - 2s 49ms/step - loss: 0.3754 - accuracy: 0.8640 - val_loss: 0.4476 - val_accuracy: 0.8522\n",
      "Epoch 25/200\n",
      "43/43 [==============================] - 2s 49ms/step - loss: 0.3733 - accuracy: 0.8714 - val_loss: 0.3847 - val_accuracy: 0.8689\n",
      "Epoch 26/200\n",
      "43/43 [==============================] - 2s 48ms/step - loss: 0.3603 - accuracy: 0.8727 - val_loss: 0.4074 - val_accuracy: 0.8761\n",
      "Epoch 27/200\n",
      "43/43 [==============================] - 2s 47ms/step - loss: 0.3473 - accuracy: 0.8759 - val_loss: 0.3696 - val_accuracy: 0.8822\n",
      "Epoch 28/200\n",
      "43/43 [==============================] - 2s 47ms/step - loss: 0.3389 - accuracy: 0.8816 - val_loss: 0.4248 - val_accuracy: 0.8561\n",
      "Epoch 29/200\n",
      "43/43 [==============================] - 2s 47ms/step - loss: 0.3305 - accuracy: 0.8835 - val_loss: 0.3757 - val_accuracy: 0.8722\n",
      "Epoch 30/200\n",
      "43/43 [==============================] - 2s 47ms/step - loss: 0.3183 - accuracy: 0.8886 - val_loss: 0.4208 - val_accuracy: 0.8761\n",
      "Epoch 31/200\n",
      "43/43 [==============================] - 2s 47ms/step - loss: 0.3194 - accuracy: 0.8894 - val_loss: 0.3709 - val_accuracy: 0.8711\n",
      "Epoch 32/200\n",
      "43/43 [==============================] - 2s 47ms/step - loss: 0.3211 - accuracy: 0.8868 - val_loss: 0.3644 - val_accuracy: 0.8800\n",
      "Epoch 33/200\n",
      "43/43 [==============================] - 2s 47ms/step - loss: 0.3177 - accuracy: 0.8842 - val_loss: 0.4658 - val_accuracy: 0.8511\n",
      "Epoch 34/200\n",
      "43/43 [==============================] - 2s 50ms/step - loss: 0.3167 - accuracy: 0.8912 - val_loss: 0.4322 - val_accuracy: 0.8667\n",
      "Epoch 35/200\n",
      "43/43 [==============================] - 2s 49ms/step - loss: 0.2933 - accuracy: 0.8929 - val_loss: 0.3641 - val_accuracy: 0.8756\n",
      "Epoch 36/200\n",
      "43/43 [==============================] - 2s 49ms/step - loss: 0.2990 - accuracy: 0.8925 - val_loss: 0.3927 - val_accuracy: 0.8667\n",
      "Epoch 37/200\n",
      "43/43 [==============================] - 2s 49ms/step - loss: 0.3101 - accuracy: 0.8935 - val_loss: 0.3501 - val_accuracy: 0.8806\n",
      "Epoch 38/200\n",
      "43/43 [==============================] - 2s 50ms/step - loss: 0.2750 - accuracy: 0.9029 - val_loss: 0.3663 - val_accuracy: 0.8800\n",
      "Epoch 39/200\n",
      "43/43 [==============================] - 2s 49ms/step - loss: 0.2997 - accuracy: 0.8918 - val_loss: 0.3506 - val_accuracy: 0.8744\n",
      "Epoch 40/200\n",
      "43/43 [==============================] - 2s 48ms/step - loss: 0.2605 - accuracy: 0.9024 - val_loss: 0.3425 - val_accuracy: 0.8839\n",
      "Epoch 41/200\n",
      "43/43 [==============================] - 2s 49ms/step - loss: 0.2541 - accuracy: 0.9074 - val_loss: 0.3283 - val_accuracy: 0.8911\n",
      "Epoch 42/200\n",
      "43/43 [==============================] - 2s 49ms/step - loss: 0.2527 - accuracy: 0.9081 - val_loss: 0.3439 - val_accuracy: 0.8844\n",
      "Epoch 43/200\n",
      "43/43 [==============================] - 2s 48ms/step - loss: 0.2581 - accuracy: 0.9098 - val_loss: 0.3635 - val_accuracy: 0.8783\n",
      "Epoch 44/200\n",
      "43/43 [==============================] - 2s 49ms/step - loss: 0.2670 - accuracy: 0.9079 - val_loss: 0.3595 - val_accuracy: 0.8867\n",
      "Epoch 45/200\n",
      "43/43 [==============================] - 2s 48ms/step - loss: 0.3002 - accuracy: 0.8948 - val_loss: 0.3550 - val_accuracy: 0.8922\n",
      "Epoch 46/200\n",
      "43/43 [==============================] - 2s 48ms/step - loss: 0.2543 - accuracy: 0.9053 - val_loss: 0.3527 - val_accuracy: 0.8850\n",
      "Epoch 47/200\n",
      "43/43 [==============================] - 2s 49ms/step - loss: 0.2489 - accuracy: 0.9122 - val_loss: 0.3110 - val_accuracy: 0.8944\n",
      "Epoch 48/200\n",
      "43/43 [==============================] - 2s 48ms/step - loss: 0.2386 - accuracy: 0.9168 - val_loss: 0.3772 - val_accuracy: 0.8833\n",
      "Epoch 49/200\n",
      "43/43 [==============================] - 2s 47ms/step - loss: 0.2263 - accuracy: 0.9218 - val_loss: 0.3188 - val_accuracy: 0.8967\n",
      "Epoch 50/200\n",
      "43/43 [==============================] - 2s 48ms/step - loss: 0.2369 - accuracy: 0.9211 - val_loss: 0.2968 - val_accuracy: 0.9000\n",
      "Epoch 51/200\n",
      "43/43 [==============================] - 2s 47ms/step - loss: 0.2437 - accuracy: 0.9194 - val_loss: 0.3485 - val_accuracy: 0.8844\n",
      "Epoch 52/200\n",
      "43/43 [==============================] - 2s 47ms/step - loss: 0.2194 - accuracy: 0.9225 - val_loss: 0.3079 - val_accuracy: 0.9006\n",
      "Epoch 53/200\n",
      "43/43 [==============================] - 2s 47ms/step - loss: 0.2333 - accuracy: 0.9157 - val_loss: 0.3826 - val_accuracy: 0.8878\n",
      "Epoch 54/200\n",
      "43/43 [==============================] - 2s 47ms/step - loss: 0.2298 - accuracy: 0.9164 - val_loss: 0.3335 - val_accuracy: 0.8833\n",
      "Epoch 55/200\n",
      "43/43 [==============================] - 2s 47ms/step - loss: 0.2035 - accuracy: 0.9263 - val_loss: 0.2995 - val_accuracy: 0.8989\n",
      "Epoch 56/200\n",
      "43/43 [==============================] - 2s 47ms/step - loss: 0.2066 - accuracy: 0.9246 - val_loss: 0.3277 - val_accuracy: 0.8944\n",
      "Epoch 57/200\n",
      "43/43 [==============================] - 2s 48ms/step - loss: 0.2084 - accuracy: 0.9270 - val_loss: 0.3338 - val_accuracy: 0.8917\n",
      "Epoch 58/200\n",
      "43/43 [==============================] - 2s 47ms/step - loss: 0.2158 - accuracy: 0.9211 - val_loss: 0.3236 - val_accuracy: 0.8883\n",
      "Epoch 59/200\n",
      "43/43 [==============================] - 2s 48ms/step - loss: 0.1959 - accuracy: 0.9307 - val_loss: 0.3368 - val_accuracy: 0.8961\n",
      "Epoch 60/200\n",
      "43/43 [==============================] - 2s 48ms/step - loss: 0.2033 - accuracy: 0.9300 - val_loss: 0.3751 - val_accuracy: 0.8817\n",
      "Epoch 61/200\n",
      "43/43 [==============================] - 2s 48ms/step - loss: 0.1951 - accuracy: 0.9311 - val_loss: 0.3494 - val_accuracy: 0.9000\n",
      "Epoch 62/200\n",
      "43/43 [==============================] - 2s 48ms/step - loss: 0.2291 - accuracy: 0.9190 - val_loss: 0.3407 - val_accuracy: 0.8894\n",
      "Epoch 63/200\n",
      "43/43 [==============================] - 2s 47ms/step - loss: 0.2034 - accuracy: 0.9268 - val_loss: 0.2946 - val_accuracy: 0.9033\n",
      "Epoch 64/200\n",
      "43/43 [==============================] - 2s 47ms/step - loss: 0.2009 - accuracy: 0.9287 - val_loss: 0.2966 - val_accuracy: 0.9067\n",
      "Epoch 65/200\n",
      "43/43 [==============================] - 2s 47ms/step - loss: 0.1985 - accuracy: 0.9270 - val_loss: 0.2942 - val_accuracy: 0.9072\n",
      "Epoch 66/200\n",
      "43/43 [==============================] - 2s 47ms/step - loss: 0.1904 - accuracy: 0.9344 - val_loss: 0.3330 - val_accuracy: 0.8950\n",
      "Epoch 67/200\n",
      "43/43 [==============================] - 2s 47ms/step - loss: 0.1700 - accuracy: 0.9385 - val_loss: 0.3112 - val_accuracy: 0.9033\n",
      "Epoch 68/200\n",
      "43/43 [==============================] - 2s 47ms/step - loss: 0.1675 - accuracy: 0.9400 - val_loss: 0.3318 - val_accuracy: 0.9011\n",
      "Epoch 69/200\n",
      "43/43 [==============================] - 2s 47ms/step - loss: 0.2066 - accuracy: 0.9279 - val_loss: 0.3098 - val_accuracy: 0.8978\n",
      "Epoch 70/200\n",
      "43/43 [==============================] - 2s 47ms/step - loss: 0.1950 - accuracy: 0.9314 - val_loss: 0.3090 - val_accuracy: 0.9033\n",
      "Epoch 71/200\n",
      "43/43 [==============================] - 2s 48ms/step - loss: 0.1840 - accuracy: 0.9357 - val_loss: 0.3059 - val_accuracy: 0.9022\n",
      "Epoch 72/200\n",
      "43/43 [==============================] - 2s 48ms/step - loss: 0.2174 - accuracy: 0.9231 - val_loss: 0.3678 - val_accuracy: 0.8894\n",
      "Epoch 73/200\n",
      "43/43 [==============================] - 2s 48ms/step - loss: 0.1986 - accuracy: 0.9314 - val_loss: 0.3158 - val_accuracy: 0.8906\n",
      "Epoch 74/200\n",
      "43/43 [==============================] - 2s 48ms/step - loss: 0.1914 - accuracy: 0.9333 - val_loss: 0.3185 - val_accuracy: 0.8994\n",
      "Epoch 75/200\n",
      "43/43 [==============================] - 2s 48ms/step - loss: 0.2113 - accuracy: 0.9272 - val_loss: 0.3377 - val_accuracy: 0.8911\n",
      "Epoch 76/200\n",
      "43/43 [==============================] - 2s 48ms/step - loss: 0.1873 - accuracy: 0.9344 - val_loss: 0.3085 - val_accuracy: 0.8956\n",
      "Epoch 77/200\n",
      "43/43 [==============================] - 2s 47ms/step - loss: 0.1998 - accuracy: 0.9285 - val_loss: 0.2910 - val_accuracy: 0.9078\n",
      "Epoch 78/200\n",
      "43/43 [==============================] - 2s 47ms/step - loss: 0.1879 - accuracy: 0.9344 - val_loss: 0.2930 - val_accuracy: 0.9072\n",
      "Epoch 79/200\n",
      "43/43 [==============================] - 2s 47ms/step - loss: 0.1766 - accuracy: 0.9351 - val_loss: 0.2943 - val_accuracy: 0.9044\n",
      "Epoch 80/200\n",
      "43/43 [==============================] - 2s 47ms/step - loss: 0.1642 - accuracy: 0.9431 - val_loss: 0.3269 - val_accuracy: 0.8989\n",
      "Epoch 81/200\n",
      "43/43 [==============================] - 2s 47ms/step - loss: 0.1677 - accuracy: 0.9394 - val_loss: 0.3634 - val_accuracy: 0.8967\n",
      "Epoch 82/200\n",
      "43/43 [==============================] - 2s 47ms/step - loss: 0.1648 - accuracy: 0.9409 - val_loss: 0.3276 - val_accuracy: 0.8978\n",
      "Epoch 83/200\n",
      "43/43 [==============================] - 2s 48ms/step - loss: 0.1652 - accuracy: 0.9420 - val_loss: 0.2958 - val_accuracy: 0.9028\n",
      "Epoch 84/200\n",
      "43/43 [==============================] - 2s 48ms/step - loss: 0.1593 - accuracy: 0.9389 - val_loss: 0.3540 - val_accuracy: 0.8889\n",
      "Epoch 85/200\n",
      "43/43 [==============================] - 2s 47ms/step - loss: 0.1612 - accuracy: 0.9416 - val_loss: 0.3194 - val_accuracy: 0.9017\n",
      "Epoch 86/200\n",
      "43/43 [==============================] - 2s 47ms/step - loss: 0.1356 - accuracy: 0.9511 - val_loss: 0.3043 - val_accuracy: 0.9094\n",
      "Epoch 87/200\n",
      "43/43 [==============================] - 2s 48ms/step - loss: 0.1453 - accuracy: 0.9481 - val_loss: 0.3215 - val_accuracy: 0.9078\n",
      "Epoch 88/200\n",
      "43/43 [==============================] - 2s 47ms/step - loss: 0.1515 - accuracy: 0.9450 - val_loss: 0.3082 - val_accuracy: 0.9117\n",
      "Epoch 89/200\n",
      "43/43 [==============================] - 2s 47ms/step - loss: 0.1381 - accuracy: 0.9505 - val_loss: 0.3440 - val_accuracy: 0.9017\n",
      "Epoch 90/200\n",
      "43/43 [==============================] - 2s 47ms/step - loss: 0.1503 - accuracy: 0.9463 - val_loss: 0.2901 - val_accuracy: 0.9122\n",
      "Epoch 91/200\n",
      "43/43 [==============================] - 2s 47ms/step - loss: 0.1553 - accuracy: 0.9427 - val_loss: 0.3327 - val_accuracy: 0.8972\n",
      "Epoch 92/200\n",
      "43/43 [==============================] - 2s 47ms/step - loss: 0.1548 - accuracy: 0.9424 - val_loss: 0.3238 - val_accuracy: 0.9039\n",
      "Epoch 93/200\n",
      "43/43 [==============================] - 2s 48ms/step - loss: 0.1455 - accuracy: 0.9483 - val_loss: 0.3118 - val_accuracy: 0.9017\n",
      "Epoch 94/200\n",
      "43/43 [==============================] - 2s 48ms/step - loss: 0.1363 - accuracy: 0.9535 - val_loss: 0.3454 - val_accuracy: 0.8994\n",
      "Epoch 95/200\n",
      "43/43 [==============================] - 2s 48ms/step - loss: 0.1506 - accuracy: 0.9477 - val_loss: 0.3118 - val_accuracy: 0.9089\n",
      "Epoch 96/200\n",
      "43/43 [==============================] - 2s 47ms/step - loss: 0.1416 - accuracy: 0.9476 - val_loss: 0.3426 - val_accuracy: 0.8983\n",
      "Epoch 97/200\n",
      "43/43 [==============================] - 2s 47ms/step - loss: 0.1345 - accuracy: 0.9505 - val_loss: 0.2795 - val_accuracy: 0.9156\n",
      "Epoch 98/200\n",
      "43/43 [==============================] - 2s 47ms/step - loss: 0.1382 - accuracy: 0.9496 - val_loss: 0.3149 - val_accuracy: 0.9094\n",
      "Epoch 99/200\n",
      "43/43 [==============================] - 2s 47ms/step - loss: 0.1479 - accuracy: 0.9500 - val_loss: 0.3269 - val_accuracy: 0.9067\n",
      "Epoch 100/200\n",
      "43/43 [==============================] - 2s 47ms/step - loss: 0.1487 - accuracy: 0.9489 - val_loss: 0.2839 - val_accuracy: 0.9111\n",
      "Epoch 101/200\n",
      "43/43 [==============================] - 2s 46ms/step - loss: 0.1374 - accuracy: 0.9546 - val_loss: 0.2856 - val_accuracy: 0.9156\n",
      "Epoch 102/200\n",
      "43/43 [==============================] - 2s 47ms/step - loss: 0.1264 - accuracy: 0.9540 - val_loss: 0.3256 - val_accuracy: 0.9089\n",
      "Epoch 103/200\n",
      "43/43 [==============================] - 2s 46ms/step - loss: 0.1372 - accuracy: 0.9496 - val_loss: 0.3192 - val_accuracy: 0.9050\n",
      "Epoch 104/200\n",
      "43/43 [==============================] - 2s 46ms/step - loss: 0.1585 - accuracy: 0.9437 - val_loss: 0.2799 - val_accuracy: 0.9111\n",
      "Epoch 105/200\n",
      "43/43 [==============================] - 2s 47ms/step - loss: 0.1392 - accuracy: 0.9498 - val_loss: 0.3067 - val_accuracy: 0.9072\n",
      "Epoch 106/200\n",
      "43/43 [==============================] - 2s 46ms/step - loss: 0.1520 - accuracy: 0.9485 - val_loss: 0.3000 - val_accuracy: 0.9122\n",
      "Epoch 107/200\n",
      "43/43 [==============================] - 2s 47ms/step - loss: 0.1208 - accuracy: 0.9583 - val_loss: 0.3323 - val_accuracy: 0.9050\n",
      "Epoch 108/200\n",
      "43/43 [==============================] - 2s 47ms/step - loss: 0.1336 - accuracy: 0.9550 - val_loss: 0.2866 - val_accuracy: 0.9139\n",
      "Epoch 109/200\n",
      "43/43 [==============================] - 2s 47ms/step - loss: 0.1283 - accuracy: 0.9524 - val_loss: 0.3081 - val_accuracy: 0.9011\n",
      "Epoch 110/200\n",
      "43/43 [==============================] - 2s 47ms/step - loss: 0.1380 - accuracy: 0.9550 - val_loss: 0.2843 - val_accuracy: 0.9156\n",
      "Epoch 111/200\n",
      "43/43 [==============================] - 2s 47ms/step - loss: 0.1220 - accuracy: 0.9570 - val_loss: 0.3258 - val_accuracy: 0.9100\n",
      "Epoch 112/200\n",
      "43/43 [==============================] - 2s 46ms/step - loss: 0.1332 - accuracy: 0.9511 - val_loss: 0.3050 - val_accuracy: 0.9056\n",
      "Epoch 113/200\n",
      "43/43 [==============================] - 2s 46ms/step - loss: 0.1323 - accuracy: 0.9553 - val_loss: 0.3017 - val_accuracy: 0.9089\n",
      "Epoch 114/200\n",
      "43/43 [==============================] - 2s 47ms/step - loss: 0.1222 - accuracy: 0.9546 - val_loss: 0.3047 - val_accuracy: 0.9078\n",
      "Epoch 115/200\n",
      "43/43 [==============================] - 2s 46ms/step - loss: 0.1289 - accuracy: 0.9555 - val_loss: 0.3138 - val_accuracy: 0.9161\n",
      "Epoch 116/200\n",
      "43/43 [==============================] - 2s 47ms/step - loss: 0.1252 - accuracy: 0.9546 - val_loss: 0.3236 - val_accuracy: 0.9044\n",
      "Epoch 117/200\n",
      "43/43 [==============================] - 2s 48ms/step - loss: 0.1118 - accuracy: 0.9607 - val_loss: 0.3205 - val_accuracy: 0.9083\n",
      "Epoch 118/200\n",
      "43/43 [==============================] - 2s 46ms/step - loss: 0.1438 - accuracy: 0.9518 - val_loss: 0.3183 - val_accuracy: 0.9072\n",
      "Epoch 119/200\n",
      "43/43 [==============================] - 2s 47ms/step - loss: 0.1258 - accuracy: 0.9535 - val_loss: 0.3110 - val_accuracy: 0.9111\n",
      "Epoch 120/200\n",
      "43/43 [==============================] - 2s 47ms/step - loss: 0.1177 - accuracy: 0.9565 - val_loss: 0.2492 - val_accuracy: 0.9189\n",
      "Epoch 121/200\n",
      "43/43 [==============================] - 2s 47ms/step - loss: 0.1107 - accuracy: 0.9616 - val_loss: 0.3053 - val_accuracy: 0.9128\n",
      "Epoch 122/200\n",
      "43/43 [==============================] - 2s 47ms/step - loss: 0.1101 - accuracy: 0.9605 - val_loss: 0.2882 - val_accuracy: 0.9172\n",
      "Epoch 123/200\n",
      "43/43 [==============================] - 2s 47ms/step - loss: 0.1085 - accuracy: 0.9633 - val_loss: 0.2977 - val_accuracy: 0.9178\n",
      "Epoch 124/200\n",
      "43/43 [==============================] - 2s 46ms/step - loss: 0.1421 - accuracy: 0.9489 - val_loss: 0.3457 - val_accuracy: 0.9094\n",
      "Epoch 125/200\n",
      "43/43 [==============================] - 2s 47ms/step - loss: 0.1040 - accuracy: 0.9602 - val_loss: 0.2818 - val_accuracy: 0.9178\n",
      "Epoch 126/200\n",
      "43/43 [==============================] - 2s 46ms/step - loss: 0.1085 - accuracy: 0.9628 - val_loss: 0.3010 - val_accuracy: 0.9144\n",
      "Epoch 127/200\n",
      "43/43 [==============================] - 2s 46ms/step - loss: 0.1240 - accuracy: 0.9546 - val_loss: 0.2885 - val_accuracy: 0.9089\n",
      "Epoch 128/200\n",
      "43/43 [==============================] - 2s 47ms/step - loss: 0.1146 - accuracy: 0.9609 - val_loss: 0.2938 - val_accuracy: 0.9089\n",
      "Epoch 129/200\n",
      "43/43 [==============================] - 2s 46ms/step - loss: 0.1041 - accuracy: 0.9616 - val_loss: 0.3129 - val_accuracy: 0.9072\n",
      "Epoch 130/200\n",
      "43/43 [==============================] - 2s 46ms/step - loss: 0.1229 - accuracy: 0.9589 - val_loss: 0.3064 - val_accuracy: 0.9167\n",
      "Epoch 131/200\n",
      "43/43 [==============================] - 2s 47ms/step - loss: 0.1342 - accuracy: 0.9518 - val_loss: 0.3005 - val_accuracy: 0.9100\n",
      "Epoch 132/200\n",
      "43/43 [==============================] - 2s 47ms/step - loss: 0.1006 - accuracy: 0.9635 - val_loss: 0.3050 - val_accuracy: 0.9139\n",
      "Epoch 133/200\n",
      "43/43 [==============================] - 2s 46ms/step - loss: 0.1053 - accuracy: 0.9631 - val_loss: 0.3032 - val_accuracy: 0.9106\n",
      "Epoch 134/200\n",
      "43/43 [==============================] - 2s 47ms/step - loss: 0.1156 - accuracy: 0.9568 - val_loss: 0.2827 - val_accuracy: 0.9111\n",
      "Epoch 135/200\n",
      "43/43 [==============================] - 2s 46ms/step - loss: 0.1040 - accuracy: 0.9637 - val_loss: 0.3030 - val_accuracy: 0.9050\n",
      "Epoch 136/200\n",
      "43/43 [==============================] - 2s 46ms/step - loss: 0.1003 - accuracy: 0.9624 - val_loss: 0.2877 - val_accuracy: 0.9111\n",
      "Epoch 137/200\n",
      "43/43 [==============================] - 2s 47ms/step - loss: 0.1145 - accuracy: 0.9565 - val_loss: 0.3195 - val_accuracy: 0.9100\n",
      "Epoch 138/200\n",
      "43/43 [==============================] - 2s 48ms/step - loss: 0.1078 - accuracy: 0.9646 - val_loss: 0.2924 - val_accuracy: 0.9139\n",
      "Epoch 139/200\n",
      "43/43 [==============================] - 2s 48ms/step - loss: 0.1270 - accuracy: 0.9540 - val_loss: 0.2766 - val_accuracy: 0.9178\n",
      "Epoch 140/200\n",
      "43/43 [==============================] - 2s 48ms/step - loss: 0.1131 - accuracy: 0.9616 - val_loss: 0.3400 - val_accuracy: 0.9028\n",
      "Epoch 141/200\n",
      "43/43 [==============================] - 2s 47ms/step - loss: 0.1169 - accuracy: 0.9570 - val_loss: 0.3203 - val_accuracy: 0.9117\n",
      "Epoch 142/200\n",
      "43/43 [==============================] - 2s 48ms/step - loss: 0.1214 - accuracy: 0.9572 - val_loss: 0.3077 - val_accuracy: 0.9139\n",
      "Epoch 143/200\n",
      "43/43 [==============================] - 2s 47ms/step - loss: 0.1160 - accuracy: 0.9602 - val_loss: 0.2893 - val_accuracy: 0.9189\n",
      "Epoch 144/200\n",
      "43/43 [==============================] - 2s 46ms/step - loss: 0.1319 - accuracy: 0.9579 - val_loss: 0.2741 - val_accuracy: 0.9183\n",
      "Epoch 145/200\n",
      "43/43 [==============================] - 2s 47ms/step - loss: 0.1108 - accuracy: 0.9605 - val_loss: 0.2879 - val_accuracy: 0.9161\n",
      "Epoch 146/200\n",
      "43/43 [==============================] - 2s 46ms/step - loss: 0.1074 - accuracy: 0.9626 - val_loss: 0.3516 - val_accuracy: 0.9083\n",
      "Epoch 147/200\n",
      "43/43 [==============================] - 2s 47ms/step - loss: 0.0910 - accuracy: 0.9672 - val_loss: 0.3025 - val_accuracy: 0.9139\n",
      "Epoch 148/200\n",
      "43/43 [==============================] - 2s 47ms/step - loss: 0.0930 - accuracy: 0.9665 - val_loss: 0.3122 - val_accuracy: 0.9100\n",
      "Epoch 149/200\n",
      "43/43 [==============================] - 2s 47ms/step - loss: 0.0983 - accuracy: 0.9674 - val_loss: 0.3578 - val_accuracy: 0.9083\n",
      "Epoch 150/200\n",
      "43/43 [==============================] - 2s 47ms/step - loss: 0.1038 - accuracy: 0.9633 - val_loss: 0.3032 - val_accuracy: 0.9194\n",
      "Epoch 151/200\n",
      "43/43 [==============================] - 2s 47ms/step - loss: 0.0905 - accuracy: 0.9702 - val_loss: 0.3176 - val_accuracy: 0.9189\n",
      "Epoch 152/200\n",
      "43/43 [==============================] - 2s 47ms/step - loss: 0.0983 - accuracy: 0.9652 - val_loss: 0.2725 - val_accuracy: 0.9233\n",
      "Epoch 153/200\n",
      "43/43 [==============================] - 2s 46ms/step - loss: 0.1127 - accuracy: 0.9620 - val_loss: 0.3200 - val_accuracy: 0.9189\n",
      "Epoch 154/200\n",
      "43/43 [==============================] - 2s 47ms/step - loss: 0.1104 - accuracy: 0.9624 - val_loss: 0.2764 - val_accuracy: 0.9217\n",
      "Epoch 155/200\n",
      "43/43 [==============================] - 2s 46ms/step - loss: 0.0981 - accuracy: 0.9626 - val_loss: 0.2671 - val_accuracy: 0.9189\n",
      "Epoch 156/200\n",
      "43/43 [==============================] - 2s 46ms/step - loss: 0.1011 - accuracy: 0.9622 - val_loss: 0.2916 - val_accuracy: 0.9183\n",
      "Epoch 157/200\n",
      "43/43 [==============================] - 2s 47ms/step - loss: 0.0992 - accuracy: 0.9681 - val_loss: 0.2679 - val_accuracy: 0.9194\n",
      "Epoch 158/200\n",
      "43/43 [==============================] - 2s 46ms/step - loss: 0.0985 - accuracy: 0.9668 - val_loss: 0.2863 - val_accuracy: 0.9189\n",
      "Epoch 159/200\n",
      "43/43 [==============================] - 2s 47ms/step - loss: 0.0764 - accuracy: 0.9718 - val_loss: 0.2806 - val_accuracy: 0.9150\n",
      "Epoch 160/200\n",
      "43/43 [==============================] - 2s 47ms/step - loss: 0.0796 - accuracy: 0.9726 - val_loss: 0.3146 - val_accuracy: 0.9183\n",
      "Epoch 161/200\n",
      "43/43 [==============================] - 2s 47ms/step - loss: 0.0778 - accuracy: 0.9724 - val_loss: 0.2908 - val_accuracy: 0.9233\n",
      "Epoch 162/200\n",
      "43/43 [==============================] - 2s 48ms/step - loss: 0.0764 - accuracy: 0.9729 - val_loss: 0.3112 - val_accuracy: 0.9189\n",
      "Epoch 163/200\n",
      "43/43 [==============================] - 2s 47ms/step - loss: 0.0983 - accuracy: 0.9650 - val_loss: 0.3346 - val_accuracy: 0.9156\n",
      "Epoch 164/200\n",
      "43/43 [==============================] - 2s 47ms/step - loss: 0.1241 - accuracy: 0.9572 - val_loss: 0.3212 - val_accuracy: 0.9139\n",
      "Epoch 165/200\n",
      "43/43 [==============================] - 2s 48ms/step - loss: 0.1401 - accuracy: 0.9502 - val_loss: 0.2877 - val_accuracy: 0.9139\n",
      "Epoch 166/200\n",
      "43/43 [==============================] - 2s 47ms/step - loss: 0.1029 - accuracy: 0.9661 - val_loss: 0.2660 - val_accuracy: 0.9167\n",
      "Epoch 167/200\n",
      "43/43 [==============================] - 2s 47ms/step - loss: 0.0914 - accuracy: 0.9683 - val_loss: 0.2733 - val_accuracy: 0.9128\n",
      "Epoch 168/200\n",
      "43/43 [==============================] - 2s 47ms/step - loss: 0.0769 - accuracy: 0.9724 - val_loss: 0.3177 - val_accuracy: 0.9156\n",
      "Epoch 169/200\n",
      "43/43 [==============================] - 2s 48ms/step - loss: 0.0791 - accuracy: 0.9707 - val_loss: 0.3358 - val_accuracy: 0.9106\n",
      "Epoch 170/200\n",
      "43/43 [==============================] - 2s 47ms/step - loss: 0.0868 - accuracy: 0.9707 - val_loss: 0.2980 - val_accuracy: 0.9228\n",
      "Epoch 171/200\n",
      "43/43 [==============================] - 2s 47ms/step - loss: 0.1000 - accuracy: 0.9642 - val_loss: 0.2880 - val_accuracy: 0.9183\n",
      "Epoch 172/200\n",
      "43/43 [==============================] - 2s 47ms/step - loss: 0.0837 - accuracy: 0.9704 - val_loss: 0.3186 - val_accuracy: 0.9183\n",
      "Epoch 173/200\n",
      "43/43 [==============================] - 2s 47ms/step - loss: 0.0780 - accuracy: 0.9717 - val_loss: 0.2741 - val_accuracy: 0.9233\n",
      "Epoch 174/200\n",
      "43/43 [==============================] - 2s 47ms/step - loss: 0.0786 - accuracy: 0.9724 - val_loss: 0.2840 - val_accuracy: 0.9217\n",
      "Epoch 175/200\n",
      "43/43 [==============================] - 2s 47ms/step - loss: 0.1070 - accuracy: 0.9615 - val_loss: 0.3302 - val_accuracy: 0.9117\n",
      "Epoch 176/200\n",
      "43/43 [==============================] - 2s 47ms/step - loss: 0.0997 - accuracy: 0.9665 - val_loss: 0.3236 - val_accuracy: 0.9139\n",
      "Epoch 177/200\n",
      "43/43 [==============================] - 2s 47ms/step - loss: 0.1132 - accuracy: 0.9602 - val_loss: 0.4018 - val_accuracy: 0.8978\n",
      "Epoch 178/200\n",
      "43/43 [==============================] - 2s 47ms/step - loss: 0.1085 - accuracy: 0.9589 - val_loss: 0.2933 - val_accuracy: 0.9128\n",
      "Epoch 179/200\n",
      "43/43 [==============================] - 2s 47ms/step - loss: 0.1176 - accuracy: 0.9596 - val_loss: 0.2866 - val_accuracy: 0.9200\n",
      "Epoch 180/200\n",
      "43/43 [==============================] - 2s 47ms/step - loss: 0.0936 - accuracy: 0.9679 - val_loss: 0.3025 - val_accuracy: 0.9211\n",
      "Epoch 181/200\n",
      "43/43 [==============================] - 2s 48ms/step - loss: 0.0855 - accuracy: 0.9689 - val_loss: 0.2760 - val_accuracy: 0.9256\n",
      "Epoch 182/200\n",
      "43/43 [==============================] - 2s 47ms/step - loss: 0.0805 - accuracy: 0.9705 - val_loss: 0.3249 - val_accuracy: 0.9161\n",
      "Epoch 183/200\n",
      "43/43 [==============================] - 2s 48ms/step - loss: 0.0833 - accuracy: 0.9704 - val_loss: 0.3219 - val_accuracy: 0.9167\n",
      "Epoch 184/200\n",
      "43/43 [==============================] - 2s 49ms/step - loss: 0.0756 - accuracy: 0.9720 - val_loss: 0.2979 - val_accuracy: 0.9172\n",
      "Epoch 185/200\n",
      "43/43 [==============================] - 2s 50ms/step - loss: 0.0792 - accuracy: 0.9715 - val_loss: 0.3290 - val_accuracy: 0.9172\n",
      "Epoch 186/200\n",
      "43/43 [==============================] - 2s 47ms/step - loss: 0.0700 - accuracy: 0.9750 - val_loss: 0.3030 - val_accuracy: 0.9206\n",
      "Epoch 187/200\n",
      "43/43 [==============================] - 2s 49ms/step - loss: 0.1137 - accuracy: 0.9624 - val_loss: 0.3576 - val_accuracy: 0.9111\n",
      "Epoch 188/200\n",
      "43/43 [==============================] - 2s 48ms/step - loss: 0.0834 - accuracy: 0.9683 - val_loss: 0.2908 - val_accuracy: 0.9194\n",
      "Epoch 189/200\n",
      "43/43 [==============================] - 2s 49ms/step - loss: 0.0787 - accuracy: 0.9696 - val_loss: 0.2894 - val_accuracy: 0.9194\n",
      "Epoch 190/200\n",
      "43/43 [==============================] - 2s 48ms/step - loss: 0.0817 - accuracy: 0.9707 - val_loss: 0.2991 - val_accuracy: 0.9217\n",
      "Epoch 191/200\n",
      "43/43 [==============================] - 2s 47ms/step - loss: 0.0925 - accuracy: 0.9678 - val_loss: 0.3229 - val_accuracy: 0.9167\n",
      "Epoch 192/200\n",
      "43/43 [==============================] - 2s 48ms/step - loss: 0.1048 - accuracy: 0.9642 - val_loss: 0.2815 - val_accuracy: 0.9200\n",
      "Epoch 193/200\n",
      "43/43 [==============================] - 2s 48ms/step - loss: 0.0812 - accuracy: 0.9722 - val_loss: 0.2842 - val_accuracy: 0.9189\n",
      "Epoch 194/200\n",
      "43/43 [==============================] - 2s 47ms/step - loss: 0.0832 - accuracy: 0.9728 - val_loss: 0.2926 - val_accuracy: 0.9167\n",
      "Epoch 195/200\n",
      "43/43 [==============================] - 2s 48ms/step - loss: 0.0764 - accuracy: 0.9705 - val_loss: 0.2978 - val_accuracy: 0.9178\n",
      "Epoch 196/200\n",
      "43/43 [==============================] - 2s 47ms/step - loss: 0.0721 - accuracy: 0.9748 - val_loss: 0.3304 - val_accuracy: 0.9156\n",
      "Epoch 197/200\n",
      "43/43 [==============================] - 2s 47ms/step - loss: 0.0796 - accuracy: 0.9744 - val_loss: 0.3246 - val_accuracy: 0.9167\n",
      "Epoch 198/200\n",
      "43/43 [==============================] - 2s 47ms/step - loss: 0.0797 - accuracy: 0.9726 - val_loss: 0.3189 - val_accuracy: 0.9172\n",
      "Epoch 199/200\n",
      "43/43 [==============================] - 2s 47ms/step - loss: 0.0647 - accuracy: 0.9761 - val_loss: 0.3110 - val_accuracy: 0.9144\n",
      "Epoch 200/200\n",
      "43/43 [==============================] - 2s 47ms/step - loss: 0.0890 - accuracy: 0.9698 - val_loss: 0.3200 - val_accuracy: 0.9156\n"
     ]
    },
    {
     "data": {
      "text/plain": [
       "<keras.src.callbacks.History at 0x1b208c95890>"
      ]
     },
     "execution_count": 23,
     "metadata": {},
     "output_type": "execute_result"
    }
   ],
   "source": [
    "model.fit(X_train_trans,y_train,batch_size=128,validation_data=(X_validation_trans,y_validation),epochs=200)"
   ]
  },
  {
   "cell_type": "code",
   "execution_count": 24,
   "id": "0a329af5-7457-4165-a69e-3dec84de6f1c",
   "metadata": {
    "tags": []
   },
   "outputs": [
    {
     "name": "stdout",
     "output_type": "stream",
     "text": [
      "57/57 [==============================] - 34s 587ms/step\n",
      "57/57 [==============================] - 0s 6ms/step - loss: 0.3046 - accuracy: 0.9289\n"
     ]
    },
    {
     "data": {
      "text/plain": [
       "[0.3045794367790222, 0.9288889169692993]"
      ]
     },
     "execution_count": 24,
     "metadata": {},
     "output_type": "execute_result"
    }
   ],
   "source": [
    "model.evaluate(conv_base.predict(X_test),y_test)"
   ]
  },
  {
   "cell_type": "code",
   "execution_count": 27,
   "id": "fb48d77a-bdf4-462d-a298-57c8304cf432",
   "metadata": {
    "tags": []
   },
   "outputs": [
    {
     "name": "stderr",
     "output_type": "stream",
     "text": [
      "C:\\Users\\user\\AppData\\Local\\Temp\\ipykernel_22340\\1142756231.py:1: UserWarning: You are saving your model as an HDF5 file via `model.save()`. This file format is considered legacy. We recommend using instead the native Keras format, e.g. `model.save('my_model.keras')`.\n",
      "  save_model(model, 'C:\\\\Users\\\\user\\\\Desktop\\\\sprint_test_II\\\\_data_analysis\\\\code\\\\self_model\\\\bins14_model.h5')\n"
     ]
    }
   ],
   "source": [
    "save_model(model, 'C:\\\\Users\\\\user\\\\Desktop\\\\sprint_test_II\\\\_data_analysis\\\\code\\\\self_model\\\\bins14_model.h5')"
   ]
  },
  {
   "cell_type": "code",
   "execution_count": 28,
   "id": "3bfa3fdc-104a-43ff-b740-75ee0b1e8a93",
   "metadata": {
    "tags": []
   },
   "outputs": [
    {
     "name": "stdout",
     "output_type": "stream",
     "text": [
      "WARNING:tensorflow:Compiled the loaded model, but the compiled metrics have yet to be built. `model.compile_metrics` will be empty until you train or evaluate the model.\n"
     ]
    },
    {
     "name": "stderr",
     "output_type": "stream",
     "text": [
      "C:\\Users\\user\\AppData\\Local\\Temp\\ipykernel_22340\\1927730054.py:1: UserWarning: You are saving your model as an HDF5 file via `model.save()`. This file format is considered legacy. We recommend using instead the native Keras format, e.g. `model.save('my_model.keras')`.\n",
      "  save_model(conv_base,'C:\\\\Users\\\\user\\\\Desktop\\\\sprint_test_II\\\\_data_analysis\\\\code\\\\self_model\\\\VGG16_14_model.h5')\n"
     ]
    }
   ],
   "source": [
    "save_model(conv_base,'C:\\\\Users\\\\user\\\\Desktop\\\\sprint_test_II\\\\_data_analysis\\\\code\\\\self_model\\\\VGG16_14_model.h5')"
   ]
  },
  {
   "cell_type": "code",
   "execution_count": 29,
   "id": "c34d691d-9bb2-40a0-b19e-aad3902389b0",
   "metadata": {
    "tags": []
   },
   "outputs": [],
   "source": [
    "new_model = load_model('C:\\\\Users\\\\user\\\\Desktop\\\\sprint_test_II\\\\_data_analysis\\\\code\\\\self_model\\\\bins14_model.h5')"
   ]
  },
  {
   "cell_type": "code",
   "execution_count": 30,
   "id": "c5ef4615-c0f1-4341-b60d-26e020fb3db6",
   "metadata": {},
   "outputs": [
    {
     "name": "stdout",
     "output_type": "stream",
     "text": [
      "WARNING:tensorflow:No training configuration found in the save file, so the model was *not* compiled. Compile it manually.\n"
     ]
    }
   ],
   "source": [
    "new_conv = load_model('C:\\\\Users\\\\user\\\\Desktop\\\\sprint_test_II\\\\_data_analysis\\\\code\\\\self_model\\\\VGG16_14_model.h5')"
   ]
  },
  {
   "cell_type": "code",
   "execution_count": 31,
   "id": "90596cc5-f126-420b-9ff0-aa60095bf6c3",
   "metadata": {
    "tags": []
   },
   "outputs": [],
   "source": [
    "labels_dic = {\n",
    "    \"0to500\" : 0\n",
    "    ,\"501to1000\" : 1\n",
    "    ,\"1001to1500\" : 2\n",
    "    ,\"1501to2000\" : 3\n",
    "    ,\"2001to2500\" : 4\n",
    "    ,\"2501to3000\" : 5\n",
    "    ,\"3001to3501\" : 6\n",
    "    ,\"4000to4500\" : 7\n",
    "    ,\"4501to5000\" : 8\n",
    "    ,\"5001to5500\" : 9\n",
    "    ,\"5501to6000\" : 10\n",
    "    ,\"6001to6500\" : 11\n",
    "    ,\"6501to7000\" : 12\n",
    "    ,\"7001to7500\" : 13\n",
    "    ,\"7501to8000\" : 14\n",
    "}\n",
    "\n",
    "labels_dic = {v:k for k,v in labels_dic.items()} "
   ]
  },
  {
   "cell_type": "code",
   "execution_count": 32,
   "id": "e9392bea-b723-4bf0-a9a6-d44a8ce8ae7d",
   "metadata": {
    "tags": []
   },
   "outputs": [],
   "source": [
    "# x=plt.imread('C:\\\\Users\\\\user\\\\Desktop\\\\sprint_test_II\\\\_data_analysis\\\\test_photo\\\\22_01_2024\\\\9.jpg')\n",
    "# x = cv.resize(x,(150,150))\n",
    "# x = x[:,:,:3]\n",
    "# x = x.reshape(1,150,150,3)\n",
    "\n",
    "# conv_base = VGG16(include_top=False, input_shape=(150,150,3))\n",
    "# x_trans=conv_base.predict(x)\n",
    "\n",
    "# new_model.predict(x_trans)\n",
    "# np.argmax(new_model.predict(x_trans))\n"
   ]
  },
  {
   "cell_type": "code",
   "execution_count": 33,
   "id": "e5d9c9b2-76d2-417a-bf4b-79169f4bb776",
   "metadata": {
    "tags": []
   },
   "outputs": [],
   "source": [
    "def model_predict(x, conv_base):\n",
    "    x1 = cv.resize(x,(150,150))\n",
    "    x1 = x1[:,:,:3]\n",
    "    x1 = x1.reshape(1,150,150,3)\n",
    "    answer=np.argmax(new_model.predict(conv_base.predict(x1)))\n",
    "    return answer"
   ]
  },
  {
   "cell_type": "code",
   "execution_count": 50,
   "id": "ec016d75-df63-40a5-a3be-224399fadfc6",
   "metadata": {
    "scrolled": true,
    "tags": []
   },
   "outputs": [
    {
     "name": "stdout",
     "output_type": "stream",
     "text": [
      "1/1 [==============================] - 0s 57ms/step\n",
      "1/1 [==============================] - 0s 17ms/step\n"
     ]
    },
    {
     "data": {
      "text/plain": [
       "12"
      ]
     },
     "execution_count": 50,
     "metadata": {},
     "output_type": "execute_result"
    }
   ],
   "source": [
    "x=plt.imread('C:\\\\Users\\\\user\\\\Desktop\\\\sprint_test_II\\\\_data_analysis\\\\test_photo\\\\22_01_2024\\\\13.jpg')\n",
    "model_predict(x, new_conv)"
   ]
  },
  {
   "cell_type": "code",
   "execution_count": 51,
   "id": "e2581d07-571e-425a-9f6f-6778ee3a1381",
   "metadata": {
    "tags": []
   },
   "outputs": [],
   "source": [
    "x10 = plt.imread('C:\\\\Users\\\\user\\\\Desktop\\\\sprint_test_II\\\\_data_analysis\\\\test_photo\\\\19_01_2024\\\\10.jpg')\n",
    "x11 = plt.imread('C:\\\\Users\\\\user\\\\Desktop\\\\sprint_test_II\\\\_data_analysis\\\\test_photo\\\\19_01_2024\\\\11.jpg')\n",
    "x12 = plt.imread('C:\\\\Users\\\\user\\\\Desktop\\\\sprint_test_II\\\\_data_analysis\\\\test_photo\\\\19_01_2024\\\\12.jpg')\n",
    "x13 = plt.imread('C:\\\\Users\\\\user\\\\Desktop\\\\sprint_test_II\\\\_data_analysis\\\\test_photo\\\\19_01_2024\\\\13.jpg')\n",
    "x14 = plt.imread('C:\\\\Users\\\\user\\\\Desktop\\\\sprint_test_II\\\\_data_analysis\\\\test_photo\\\\19_01_2024\\\\14.jpg')\n",
    "x15 = plt.imread('C:\\\\Users\\\\user\\\\Desktop\\\\sprint_test_II\\\\_data_analysis\\\\test_photo\\\\19_01_2024\\\\15.jpg')\n",
    "x16 = plt.imread('C:\\\\Users\\\\user\\\\Desktop\\\\sprint_test_II\\\\_data_analysis\\\\test_photo\\\\19_01_2024\\\\16.jpg')"
   ]
  },
  {
   "cell_type": "code",
   "execution_count": 52,
   "id": "48c99802-d48b-4711-9db8-cdee7ebc3776",
   "metadata": {
    "tags": []
   },
   "outputs": [
    {
     "name": "stdout",
     "output_type": "stream",
     "text": [
      "1/1 [==============================] - 0s 58ms/step\n",
      "1/1 [==============================] - 0s 17ms/step\n",
      "2\n",
      "1/1 [==============================] - 0s 56ms/step\n",
      "1/1 [==============================] - 0s 20ms/step\n",
      "2\n",
      "1/1 [==============================] - 0s 58ms/step\n",
      "1/1 [==============================] - 0s 21ms/step\n",
      "2\n",
      "1/1 [==============================] - 0s 59ms/step\n",
      "1/1 [==============================] - 0s 19ms/step\n",
      "2\n",
      "1/1 [==============================] - 0s 58ms/step\n",
      "1/1 [==============================] - 0s 19ms/step\n",
      "2\n",
      "1/1 [==============================] - 0s 58ms/step\n",
      "1/1 [==============================] - 0s 20ms/step\n",
      "2\n",
      "1/1 [==============================] - 0s 58ms/step\n",
      "1/1 [==============================] - 0s 20ms/step\n",
      "2\n"
     ]
    }
   ],
   "source": [
    "print(model_predict(x10, new_conv))\n",
    "print(model_predict(x11, new_conv))\n",
    "print(model_predict(x12, new_conv))\n",
    "print(model_predict(x13, new_conv))\n",
    "print(model_predict(x14, new_conv))\n",
    "print(model_predict(x15, new_conv))\n",
    "print(model_predict(x16, new_conv))"
   ]
  },
  {
   "cell_type": "code",
   "execution_count": 53,
   "id": "81b5930a-c3c5-4821-ad5a-ac1adbfb132c",
   "metadata": {},
   "outputs": [
    {
     "name": "stdout",
     "output_type": "stream",
     "text": [
      "1/1 [==============================] - 0s 56ms/step\n",
      "1/1 [==============================] - 0s 17ms/step\n",
      "10\n"
     ]
    }
   ],
   "source": [
    "x11 = plt.imread(\"C:/Users/user/Downloads/sky-988796_1280.jpg\")\n",
    "print(model_predict(x11, new_conv))"
   ]
  },
  {
   "cell_type": "code",
   "execution_count": null,
   "id": "e5509f1d-b28a-4f93-b90e-f3c48bb28cd9",
   "metadata": {},
   "outputs": [],
   "source": []
  },
  {
   "cell_type": "code",
   "execution_count": null,
   "id": "0ffa2934-e685-4e0d-aeaa-a515c9cd1333",
   "metadata": {},
   "outputs": [],
   "source": []
  }
 ],
 "metadata": {
  "kernelspec": {
   "display_name": "Python 3 (ipykernel)",
   "language": "python",
   "name": "python3"
  },
  "language_info": {
   "codemirror_mode": {
    "name": "ipython",
    "version": 3
   },
   "file_extension": ".py",
   "mimetype": "text/x-python",
   "name": "python",
   "nbconvert_exporter": "python",
   "pygments_lexer": "ipython3",
   "version": "3.11.4"
  }
 },
 "nbformat": 4,
 "nbformat_minor": 5
}
