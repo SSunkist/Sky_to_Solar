{
 "cells": [
  {
   "cell_type": "code",
   "execution_count": 1,
   "id": "2c1bc89d-fc8b-4085-8247-eb33fa162c77",
   "metadata": {
    "tags": []
   },
   "outputs": [
    {
     "name": "stdout",
     "output_type": "stream",
     "text": [
      "WARNING:tensorflow:From C:\\Users\\user\\anaconda3\\Lib\\site-packages\\keras\\src\\losses.py:2976: The name tf.losses.sparse_softmax_cross_entropy is deprecated. Please use tf.compat.v1.losses.sparse_softmax_cross_entropy instead.\n",
      "\n"
     ]
    }
   ],
   "source": [
    "import numpy as np\n",
    "import pandas as pd\n",
    "\n",
    "import os\n",
    "\n",
    "import matplotlib.pyplot as plt\n",
    "\n",
    "import cv2 as cv\n",
    "\n",
    "from sklearn.model_selection import train_test_split \n",
    "\n",
    "from tensorflow.keras.utils import to_categorical\n",
    "\n",
    "from tensorflow.keras.applications import VGG16\n",
    "\n",
    "from tensorflow.keras.models import Sequential\n",
    "from tensorflow.keras.layers import Dense, Flatten, BatchNormalization, Dropout\n",
    "\n",
    "from tensorflow.keras.models import save_model, load_model\n",
    "\n",
    "from tensorflow.keras.optimizers import Adam\n",
    "from tensorflow.keras.preprocessing.image import ImageDataGenerator\n",
    "from tensorflow.keras.regularizers import l2"
   ]
  },
  {
   "cell_type": "code",
   "execution_count": 2,
   "id": "49fca932-8046-40d2-b01e-b6396be1b50c",
   "metadata": {
    "tags": []
   },
   "outputs": [
    {
     "name": "stderr",
     "output_type": "stream",
     "text": [
      "C:\\Users\\user\\AppData\\Local\\Temp\\ipykernel_2060\\1493777463.py:5: UserWarning: Could not infer format, so each element will be parsed individually, falling back to `dateutil`. To ensure parsing is consistent and as-expected, please specify a format.\n",
      "  power_10_df['Date and Time'] = pd.to_datetime(power_10_df['Date and Time'])\n",
      "C:\\Users\\user\\AppData\\Local\\Temp\\ipykernel_2060\\1493777463.py:6: UserWarning: Could not infer format, so each element will be parsed individually, falling back to `dateutil`. To ensure parsing is consistent and as-expected, please specify a format.\n",
      "  power_11_df['Date and Time'] = pd.to_datetime(power_11_df['Date and Time'])\n",
      "C:\\Users\\user\\AppData\\Local\\Temp\\ipykernel_2060\\1493777463.py:7: UserWarning: Could not infer format, so each element will be parsed individually, falling back to `dateutil`. To ensure parsing is consistent and as-expected, please specify a format.\n",
      "  power_12_df['Date and Time'] = pd.to_datetime(power_12_df['Date and Time'])\n"
     ]
    },
    {
     "data": {
      "text/html": [
       "<div>\n",
       "<style scoped>\n",
       "    .dataframe tbody tr th:only-of-type {\n",
       "        vertical-align: middle;\n",
       "    }\n",
       "\n",
       "    .dataframe tbody tr th {\n",
       "        vertical-align: top;\n",
       "    }\n",
       "\n",
       "    .dataframe thead th {\n",
       "        text-align: right;\n",
       "    }\n",
       "</style>\n",
       "<table border=\"1\" class=\"dataframe\">\n",
       "  <thead>\n",
       "    <tr style=\"text-align: right;\">\n",
       "      <th></th>\n",
       "      <th>AVG power</th>\n",
       "      <th>DateTime</th>\n",
       "    </tr>\n",
       "  </thead>\n",
       "  <tbody>\n",
       "    <tr>\n",
       "      <th>0</th>\n",
       "      <td>0.0</td>\n",
       "      <td>2019-09-10 00:00:00</td>\n",
       "    </tr>\n",
       "    <tr>\n",
       "      <th>1</th>\n",
       "      <td>0.0</td>\n",
       "      <td>2019-09-10 00:01:00</td>\n",
       "    </tr>\n",
       "    <tr>\n",
       "      <th>2</th>\n",
       "      <td>0.0</td>\n",
       "      <td>2019-09-10 00:02:00</td>\n",
       "    </tr>\n",
       "    <tr>\n",
       "      <th>3</th>\n",
       "      <td>0.0</td>\n",
       "      <td>2019-09-10 00:03:00</td>\n",
       "    </tr>\n",
       "    <tr>\n",
       "      <th>4</th>\n",
       "      <td>0.0</td>\n",
       "      <td>2019-09-10 00:04:00</td>\n",
       "    </tr>\n",
       "    <tr>\n",
       "      <th>...</th>\n",
       "      <td>...</td>\n",
       "      <td>...</td>\n",
       "    </tr>\n",
       "    <tr>\n",
       "      <th>4083</th>\n",
       "      <td>0.0</td>\n",
       "      <td>2019-09-12 20:03:00</td>\n",
       "    </tr>\n",
       "    <tr>\n",
       "      <th>4084</th>\n",
       "      <td>0.0</td>\n",
       "      <td>2019-09-12 20:04:00</td>\n",
       "    </tr>\n",
       "    <tr>\n",
       "      <th>4085</th>\n",
       "      <td>0.0</td>\n",
       "      <td>2019-09-12 20:05:00</td>\n",
       "    </tr>\n",
       "    <tr>\n",
       "      <th>4086</th>\n",
       "      <td>0.0</td>\n",
       "      <td>2019-09-12 20:06:00</td>\n",
       "    </tr>\n",
       "    <tr>\n",
       "      <th>4087</th>\n",
       "      <td>0.0</td>\n",
       "      <td>2019-09-12 20:07:00</td>\n",
       "    </tr>\n",
       "  </tbody>\n",
       "</table>\n",
       "<p>4088 rows × 2 columns</p>\n",
       "</div>"
      ],
      "text/plain": [
       "      AVG power            DateTime\n",
       "0           0.0 2019-09-10 00:00:00\n",
       "1           0.0 2019-09-10 00:01:00\n",
       "2           0.0 2019-09-10 00:02:00\n",
       "3           0.0 2019-09-10 00:03:00\n",
       "4           0.0 2019-09-10 00:04:00\n",
       "...         ...                 ...\n",
       "4083        0.0 2019-09-12 20:03:00\n",
       "4084        0.0 2019-09-12 20:04:00\n",
       "4085        0.0 2019-09-12 20:05:00\n",
       "4086        0.0 2019-09-12 20:06:00\n",
       "4087        0.0 2019-09-12 20:07:00\n",
       "\n",
       "[4088 rows x 2 columns]"
      ]
     },
     "execution_count": 2,
     "metadata": {},
     "output_type": "execute_result"
    }
   ],
   "source": [
    "power_10_df = pd.read_csv(\"C:\\\\Users\\\\user\\\\Desktop\\\\sprint_test_II\\\\_data_analysis\\\\Low-res sky images kaggle\\\\Power measurements\\\\2019_09_10.csv\")\n",
    "power_11_df = pd.read_csv(\"C:\\\\Users\\\\user\\\\Desktop\\\\sprint_test_II\\\\_data_analysis\\\\Low-res sky images kaggle\\\\Power measurements\\\\2019_09_11.csv\")\n",
    "power_12_df = pd.read_csv(\"C:\\\\Users\\\\user\\\\Desktop\\\\sprint_test_II\\\\_data_analysis\\\\Low-res sky images kaggle\\\\Power measurements\\\\2019_09_12.csv\")\n",
    "\n",
    "power_10_df['Date and Time'] = pd.to_datetime(power_10_df['Date and Time'])\n",
    "power_11_df['Date and Time'] = pd.to_datetime(power_11_df['Date and Time'])\n",
    "power_12_df['Date and Time'] = pd.to_datetime(power_12_df['Date and Time'])\n",
    "\n",
    "power_df = pd.concat([power_10_df, power_11_df, power_12_df], axis = 0)\n",
    "power_df.dropna(inplace=True)\n",
    "\n",
    "power_df_avg = power_df.groupby('Date and Time').mean()\n",
    "power_df_avg          \n",
    "\n",
    "power_df_avg['DateTime'] = power_df_avg.index\n",
    "power_df_avg = power_df_avg.reset_index(drop=True)\n",
    "power_df_avg       "
   ]
  },
  {
   "cell_type": "code",
   "execution_count": 3,
   "id": "4e314241-1d55-41ab-a7e7-d24cc62a925f",
   "metadata": {
    "tags": []
   },
   "outputs": [],
   "source": [
    "time_10_df = pd.read_csv(\"C:\\\\Users\\\\user\\\\Desktop\\\\sprint_test_II\\\\_data_analysis\\\\Low-res sky images kaggle\\\\Sky images\\\\10_09_2019\\\\Time.csv\")\n",
    "time_11_df = pd.read_csv(\"C:\\\\Users\\\\user\\\\Desktop\\\\sprint_test_II\\\\_data_analysis\\\\Low-res sky images kaggle\\\\Sky images\\\\11_09_2019\\\\Time.csv\")\n",
    "time_12_df = pd.read_csv(\"C:\\\\Users\\\\user\\\\Desktop\\\\sprint_test_II\\\\_data_analysis\\\\Low-res sky images kaggle\\\\Sky images\\\\12_09_2019\\\\Time.csv\")\n",
    "\n",
    "time_10_df = time_10_df[:-1]\n",
    "time_11_df = time_11_df[:-1]\n",
    "time_12_df = time_12_df[:-1]\n",
    "\n",
    "time_10_df['Date and Time'] = pd.to_datetime(time_10_df[['Hours', 'Minutes', 'Seconds']].assign(Day=10, Month=9, Year=2019))\n",
    "time_10_df = time_10_df.drop(['Hours', 'Minutes', 'Seconds'], axis=1)\n",
    "\n",
    "time_11_df['Date and Time'] = pd.to_datetime(time_11_df[['Hours', 'Minutes', 'Seconds']].assign(Day=11, Month=9, Year=2019))\n",
    "time_11_df = time_11_df.drop(['Hours', 'Minutes', 'Seconds'], axis=1)\n",
    "\n",
    "time_12_df['Date and Time'] = pd.to_datetime(time_12_df[['Hours', 'Minutes', 'Seconds']].assign(Day=12, Month=9, Year=2019))\n",
    "time_12_df = time_12_df.drop(['Hours', 'Minutes', 'Seconds'], axis=1)\n",
    "\n",
    "folder = \"C:\\\\Users\\\\user\\\\Desktop\\\\sprint_test_II\\\\_data_analysis\\\\Low-res sky images kaggle\\\\Sky images\\\\\"\n",
    "\n",
    "time_10_df['FilePath'] = [os.path.join(folder, '10_09_2019\\\\Images\\\\' + str(image_number) + '.jpg') for image_number in time_10_df['Image Number']]\n",
    "time_11_df['FilePath'] = [os.path.join(folder, '11_09_2019\\\\Images\\\\' + str(image_number) + '.jpg') for image_number in time_10_df['Image Number']]\n",
    "time_12_df['FilePath'] = [os.path.join(folder, '12_09_2019\\\\Images\\\\' + str(image_number) + '.jpg') for image_number in time_10_df['Image Number']]\n",
    "\n",
    "time_10_df.dropna(inplace=True)\n",
    "time_11_df.dropna(inplace=True)\n",
    "time_12_df.dropna(inplace=True)"
   ]
  },
  {
   "cell_type": "code",
   "execution_count": 4,
   "id": "16d378dd-559a-4534-a700-ebc102d0a840",
   "metadata": {
    "tags": []
   },
   "outputs": [
    {
     "data": {
      "text/html": [
       "<div>\n",
       "<style scoped>\n",
       "    .dataframe tbody tr th:only-of-type {\n",
       "        vertical-align: middle;\n",
       "    }\n",
       "\n",
       "    .dataframe tbody tr th {\n",
       "        vertical-align: top;\n",
       "    }\n",
       "\n",
       "    .dataframe thead th {\n",
       "        text-align: right;\n",
       "    }\n",
       "</style>\n",
       "<table border=\"1\" class=\"dataframe\">\n",
       "  <thead>\n",
       "    <tr style=\"text-align: right;\">\n",
       "      <th></th>\n",
       "      <th>DateTime</th>\n",
       "      <th>FilePaths</th>\n",
       "      <th>NumberFiles</th>\n",
       "    </tr>\n",
       "  </thead>\n",
       "  <tbody>\n",
       "    <tr>\n",
       "      <th>0</th>\n",
       "      <td>2019-09-10 08:00:00</td>\n",
       "      <td>C:\\Users\\user\\Desktop\\sprint_test_II\\_data_ana...</td>\n",
       "      <td>5</td>\n",
       "    </tr>\n",
       "    <tr>\n",
       "      <th>1</th>\n",
       "      <td>2019-09-10 08:01:00</td>\n",
       "      <td>C:\\Users\\user\\Desktop\\sprint_test_II\\_data_ana...</td>\n",
       "      <td>6</td>\n",
       "    </tr>\n",
       "    <tr>\n",
       "      <th>2</th>\n",
       "      <td>2019-09-10 08:02:00</td>\n",
       "      <td>C:\\Users\\user\\Desktop\\sprint_test_II\\_data_ana...</td>\n",
       "      <td>6</td>\n",
       "    </tr>\n",
       "    <tr>\n",
       "      <th>3</th>\n",
       "      <td>2019-09-10 08:03:00</td>\n",
       "      <td>C:\\Users\\user\\Desktop\\sprint_test_II\\_data_ana...</td>\n",
       "      <td>6</td>\n",
       "    </tr>\n",
       "    <tr>\n",
       "      <th>4</th>\n",
       "      <td>2019-09-10 08:04:00</td>\n",
       "      <td>C:\\Users\\user\\Desktop\\sprint_test_II\\_data_ana...</td>\n",
       "      <td>6</td>\n",
       "    </tr>\n",
       "    <tr>\n",
       "      <th>...</th>\n",
       "      <td>...</td>\n",
       "      <td>...</td>\n",
       "      <td>...</td>\n",
       "    </tr>\n",
       "    <tr>\n",
       "      <th>496</th>\n",
       "      <td>2019-09-12 16:16:00</td>\n",
       "      <td>C:\\Users\\user\\Desktop\\sprint_test_II\\_data_ana...</td>\n",
       "      <td>6</td>\n",
       "    </tr>\n",
       "    <tr>\n",
       "      <th>497</th>\n",
       "      <td>2019-09-12 16:17:00</td>\n",
       "      <td>C:\\Users\\user\\Desktop\\sprint_test_II\\_data_ana...</td>\n",
       "      <td>6</td>\n",
       "    </tr>\n",
       "    <tr>\n",
       "      <th>498</th>\n",
       "      <td>2019-09-12 16:18:00</td>\n",
       "      <td>C:\\Users\\user\\Desktop\\sprint_test_II\\_data_ana...</td>\n",
       "      <td>6</td>\n",
       "    </tr>\n",
       "    <tr>\n",
       "      <th>499</th>\n",
       "      <td>2019-09-12 16:19:00</td>\n",
       "      <td>C:\\Users\\user\\Desktop\\sprint_test_II\\_data_ana...</td>\n",
       "      <td>6</td>\n",
       "    </tr>\n",
       "    <tr>\n",
       "      <th>500</th>\n",
       "      <td>2019-09-12 16:20:00</td>\n",
       "      <td>C:\\Users\\user\\Desktop\\sprint_test_II\\_data_ana...</td>\n",
       "      <td>4</td>\n",
       "    </tr>\n",
       "  </tbody>\n",
       "</table>\n",
       "<p>1503 rows × 3 columns</p>\n",
       "</div>"
      ],
      "text/plain": [
       "               DateTime                                          FilePaths  \\\n",
       "0   2019-09-10 08:00:00  C:\\Users\\user\\Desktop\\sprint_test_II\\_data_ana...   \n",
       "1   2019-09-10 08:01:00  C:\\Users\\user\\Desktop\\sprint_test_II\\_data_ana...   \n",
       "2   2019-09-10 08:02:00  C:\\Users\\user\\Desktop\\sprint_test_II\\_data_ana...   \n",
       "3   2019-09-10 08:03:00  C:\\Users\\user\\Desktop\\sprint_test_II\\_data_ana...   \n",
       "4   2019-09-10 08:04:00  C:\\Users\\user\\Desktop\\sprint_test_II\\_data_ana...   \n",
       "..                  ...                                                ...   \n",
       "496 2019-09-12 16:16:00  C:\\Users\\user\\Desktop\\sprint_test_II\\_data_ana...   \n",
       "497 2019-09-12 16:17:00  C:\\Users\\user\\Desktop\\sprint_test_II\\_data_ana...   \n",
       "498 2019-09-12 16:18:00  C:\\Users\\user\\Desktop\\sprint_test_II\\_data_ana...   \n",
       "499 2019-09-12 16:19:00  C:\\Users\\user\\Desktop\\sprint_test_II\\_data_ana...   \n",
       "500 2019-09-12 16:20:00  C:\\Users\\user\\Desktop\\sprint_test_II\\_data_ana...   \n",
       "\n",
       "     NumberFiles  \n",
       "0              5  \n",
       "1              6  \n",
       "2              6  \n",
       "3              6  \n",
       "4              6  \n",
       "..           ...  \n",
       "496            6  \n",
       "497            6  \n",
       "498            6  \n",
       "499            6  \n",
       "500            4  \n",
       "\n",
       "[1503 rows x 3 columns]"
      ]
     },
     "execution_count": 4,
     "metadata": {},
     "output_type": "execute_result"
    }
   ],
   "source": [
    "time_10_df['DateTime'] = time_10_df['Date and Time'].dt.floor('min')\n",
    "time_11_df['DateTime'] = time_11_df['Date and Time'].dt.floor('min')\n",
    "time_12_df['DateTime'] = time_12_df['Date and Time'].dt.floor('min')\n",
    "\n",
    "grouped = time_10_df.groupby('DateTime')\n",
    "grouped_11 = time_11_df.groupby('DateTime')\n",
    "grouped_12 = time_12_df.groupby('DateTime')\n",
    "\n",
    "aggregated = grouped['FilePath'].agg(lambda x: ','.join(x))\n",
    "aggregated_11 = grouped_11['FilePath'].agg(lambda x: ','.join(x))\n",
    "aggregated_12 = grouped_12['FilePath'].agg(lambda x: ','.join(x))\n",
    "\n",
    "result = aggregated.reset_index().rename(columns={'FilePath': 'FilePaths'})\n",
    "result_11 = aggregated_11.reset_index().rename(columns={'FilePath': 'FilePaths'})\n",
    "result_12 = aggregated_12.reset_index().rename(columns={'FilePath': 'FilePaths'})\n",
    "\n",
    "result['NumberFiles'] = result['FilePaths'].str.split(',').str.len()\n",
    "result_11['NumberFiles'] = result_11['FilePaths'].str.split(',').str.len()\n",
    "result_12['NumberFiles'] = result_12['FilePaths'].str.split(',').str.len()\n",
    "\n",
    "images_df = pd.concat([result, result_11, result_12], axis = 0)\n",
    "images_df"
   ]
  },
  {
   "cell_type": "code",
   "execution_count": 5,
   "id": "b5850446-a95e-4f6a-9468-e1534f7ed0c7",
   "metadata": {
    "tags": []
   },
   "outputs": [
    {
     "data": {
      "text/plain": [
       "'C:\\\\Users\\\\user\\\\Desktop\\\\sprint_test_II\\\\_data_analysis\\\\Low-res sky images kaggle\\\\Sky images\\\\10_09_2019\\\\Images\\\\1.jpg,C:\\\\Users\\\\user\\\\Desktop\\\\sprint_test_II\\\\_data_analysis\\\\Low-res sky images kaggle\\\\Sky images\\\\10_09_2019\\\\Images\\\\2.jpg,C:\\\\Users\\\\user\\\\Desktop\\\\sprint_test_II\\\\_data_analysis\\\\Low-res sky images kaggle\\\\Sky images\\\\10_09_2019\\\\Images\\\\3.jpg,C:\\\\Users\\\\user\\\\Desktop\\\\sprint_test_II\\\\_data_analysis\\\\Low-res sky images kaggle\\\\Sky images\\\\10_09_2019\\\\Images\\\\4.jpg,C:\\\\Users\\\\user\\\\Desktop\\\\sprint_test_II\\\\_data_analysis\\\\Low-res sky images kaggle\\\\Sky images\\\\10_09_2019\\\\Images\\\\5.jpg'"
      ]
     },
     "execution_count": 5,
     "metadata": {},
     "output_type": "execute_result"
    }
   ],
   "source": [
    "merged_df = pd.merge(power_df_avg, images_df, on='DateTime')\n",
    "merged_df\n",
    "merged_df['FilePaths'][0]"
   ]
  },
  {
   "cell_type": "code",
   "execution_count": 6,
   "id": "e29bb75b-4a3e-45e3-a86c-683b8b72e965",
   "metadata": {
    "tags": []
   },
   "outputs": [],
   "source": [
    "bins = [0, 500, 1000, 1500, 2000, 2500, 3000, 3500, 4000, 4500, 5000, 5500, 6000, 6500, 7000]\n",
    "labels = ['0', '1', '2', '3', '4', '5', '6', '7', '8', '9', '10', '11', '12', '13']\n",
    "merged_df['category'] = pd.cut(merged_df['AVG power'], bins=bins, labels=labels)\n",
    "\n",
    "# count_occurrences = np.count_nonzero(merged_df['category'] == '11')\n",
    "# print(count_occurrences)"
   ]
  },
  {
   "cell_type": "code",
   "execution_count": 7,
   "id": "a129fac5-5ee8-4ae3-92cb-80459af77b2f",
   "metadata": {
    "tags": []
   },
   "outputs": [
    {
     "data": {
      "text/plain": [
       "8997"
      ]
     },
     "execution_count": 7,
     "metadata": {},
     "output_type": "execute_result"
    }
   ],
   "source": [
    "file_list= []\n",
    "for i in range(merged_df.shape[0]):\n",
    "    for j in range( merged_df['NumberFiles'][i]):\n",
    "        file=merged_df['FilePaths'][i].split(',')[j]\n",
    "        file_list.append(file)\n",
    "len(file_list)"
   ]
  },
  {
   "cell_type": "code",
   "execution_count": 8,
   "id": "8271b6b5-7693-429e-a3aa-dbfe566b7cc1",
   "metadata": {
    "tags": []
   },
   "outputs": [
    {
     "data": {
      "text/plain": [
       "8997"
      ]
     },
     "execution_count": 8,
     "metadata": {},
     "output_type": "execute_result"
    }
   ],
   "source": [
    "y=[]\n",
    "for i in range(merged_df.shape[0]):\n",
    "    for j in range( merged_df['NumberFiles'][i]):\n",
    "        y_=merged_df['category'][i]\n",
    "        y.append(y_)\n",
    "len(y)  "
   ]
  },
  {
   "cell_type": "code",
   "execution_count": 9,
   "id": "2eeeb720-1e14-42c7-9330-e6a88caced22",
   "metadata": {
    "tags": []
   },
   "outputs": [],
   "source": [
    "X=np.zeros((8997,150,150,3))"
   ]
  },
  {
   "cell_type": "code",
   "execution_count": 10,
   "id": "e7c26f38-a20f-4297-bc95-8514c9d30b6f",
   "metadata": {
    "tags": []
   },
   "outputs": [],
   "source": [
    "for idx,file in enumerate(file_list):\n",
    "    dt=plt.imread(file)\n",
    "    dt=cv.resize(dt,(150,150)).reshape(1,150,150,-1)\n",
    "    X[idx] = dt[:,:,:,:3]"
   ]
  },
  {
   "cell_type": "code",
   "execution_count": 11,
   "id": "16b68faf-77a6-4e14-9331-4438bc022c8e",
   "metadata": {
    "tags": []
   },
   "outputs": [],
   "source": [
    "X_, X_test, y_, y_test=train_test_split(X,y,test_size=.2)\n",
    "X_train, X_validation, y_train, y_validation=train_test_split(X_,y_)"
   ]
  },
  {
   "cell_type": "code",
   "execution_count": 12,
   "id": "cbc79c86-d517-41a2-90a3-26a44b8a50ac",
   "metadata": {
    "tags": []
   },
   "outputs": [],
   "source": [
    "y_train = to_categorical(y_train)\n",
    "y_validation = to_categorical(y_validation)\n",
    "y_test = to_categorical(y_test)"
   ]
  },
  {
   "cell_type": "code",
   "execution_count": 13,
   "id": "53862eb6-9b7d-475b-9f29-c8ee94e31a2d",
   "metadata": {
    "tags": []
   },
   "outputs": [
    {
     "data": {
      "text/plain": [
       "((150, 150, 3), (13,))"
      ]
     },
     "execution_count": 13,
     "metadata": {},
     "output_type": "execute_result"
    }
   ],
   "source": [
    "X_train[0].shape, y_train[0].shape"
   ]
  },
  {
   "cell_type": "code",
   "execution_count": 14,
   "id": "b167e130-7c2d-4e4e-84dc-9a466ddad341",
   "metadata": {
    "tags": []
   },
   "outputs": [
    {
     "name": "stdout",
     "output_type": "stream",
     "text": [
      "WARNING:tensorflow:From C:\\Users\\user\\anaconda3\\Lib\\site-packages\\keras\\src\\backend.py:1398: The name tf.executing_eagerly_outside_functions is deprecated. Please use tf.compat.v1.executing_eagerly_outside_functions instead.\n",
      "\n",
      "WARNING:tensorflow:From C:\\Users\\user\\anaconda3\\Lib\\site-packages\\keras\\src\\layers\\pooling\\max_pooling2d.py:161: The name tf.nn.max_pool is deprecated. Please use tf.nn.max_pool2d instead.\n",
      "\n"
     ]
    }
   ],
   "source": [
    "conv_base=VGG16(include_top=False, input_shape=(150,150,3))"
   ]
  },
  {
   "cell_type": "code",
   "execution_count": 15,
   "id": "2f15be21-10ab-40a3-b1c0-36e3eacb4744",
   "metadata": {},
   "outputs": [],
   "source": [
    "# 훈련 데이터에 대한 데이터 증강\n",
    "train_datagen = ImageDataGenerator(\n",
    "                    rotation_range=30, \n",
    "                    horizontal_flip=True, \n",
    "                    vertical_flip=True, \n",
    "                    )\n",
    "train_data = train_datagen.flow(X_train, y_train, batch_size=32)\n",
    "\n",
    "# 검증 및 테스트 데이터는 증강을 적용하지 않음\n",
    "validation_datagen = ImageDataGenerator()\n",
    "validation_data = validation_datagen.flow(X_validation, y_validation, batch_size=32)\n",
    "\n",
    "test_datagen = ImageDataGenerator()\n",
    "test_data = test_datagen.flow(X_test, y_test, batch_size=64)\n",
    "\n",
    "\n",
    "# ImageDataGen=ImageDataGenerator(rotation_range=20, horizontal_flip=True,vertical_flip=True) \n",
    "\n",
    "# train_data=ImageDataGen.flow(X_train, y_train, batch_size=64)\n",
    "# validation_data=ImageDataGen.flow(X_validation, y_validation, batch_size=32)\n",
    "# test_data=ImageDataGen.flow(X_test, y_test, batch_size=32)"
   ]
  },
  {
   "cell_type": "code",
   "execution_count": 16,
   "id": "ebf41291-4a22-4acf-a1f7-19b5fd558019",
   "metadata": {
    "tags": []
   },
   "outputs": [
    {
     "name": "stdout",
     "output_type": "stream",
     "text": [
      "169/169 [==============================] - 111s 654ms/step\n",
      "57/57 [==============================] - 38s 675ms/step\n"
     ]
    }
   ],
   "source": [
    "X_train_trans=conv_base.predict(X_train)\n",
    "X_validation_trans=conv_base.predict(X_validation)"
   ]
  },
  {
   "cell_type": "code",
   "execution_count": 17,
   "id": "ea65310d-984f-4843-a2ac-e8f6053b2bd5",
   "metadata": {
    "tags": []
   },
   "outputs": [
    {
     "data": {
      "text/plain": [
       "(5397, 4, 4, 512)"
      ]
     },
     "execution_count": 17,
     "metadata": {},
     "output_type": "execute_result"
    }
   ],
   "source": [
    "X_train_trans.shape"
   ]
  },
  {
   "cell_type": "code",
   "execution_count": 18,
   "id": "8e853fce-517f-479c-945c-58f30c4ff72d",
   "metadata": {
    "tags": []
   },
   "outputs": [],
   "source": [
    "model = Sequential([\n",
    "    Flatten(input_shape=X_train_trans.shape[1:]),  \n",
    "    Dense(1024, activation='relu'),\n",
    "    BatchNormalization(),\n",
    "    Dropout(0.5),\n",
    "    Dense(512, activation='relu'),\n",
    "    BatchNormalization(),\n",
    "    Dropout(0.4),\n",
    "    Dense(256, activation='relu'),\n",
    "    BatchNormalization(),\n",
    "    Dropout(0.3),\n",
    "    Dense(128, activation='relu'),\n",
    "    BatchNormalization(),\n",
    "    Dense(64, activation='relu'),\n",
    "    BatchNormalization(),\n",
    "    Dropout(0.2),\n",
    "    Dense(32, activation='relu'),\n",
    "    BatchNormalization(),\n",
    "    Dense(16, activation='relu'),\n",
    "    BatchNormalization(), \n",
    "    Dense(13, activation='softmax')\n",
    "])"
   ]
  },
  {
   "cell_type": "code",
   "execution_count": 19,
   "id": "f9312305-336f-4ecd-b3b7-e0297390ba62",
   "metadata": {
    "tags": []
   },
   "outputs": [],
   "source": [
    "optimizer = Adam(learning_rate=0.001)\n",
    "loss='categorical_crossentropy'\n",
    "metrics='accuracy'\n",
    "model.compile(optimizer=optimizer,loss=loss,metrics=metrics)"
   ]
  },
  {
   "cell_type": "code",
   "execution_count": 20,
   "id": "1712c336-cc8a-48d2-90b0-4eafafdfa564",
   "metadata": {
    "tags": []
   },
   "outputs": [
    {
     "data": {
      "text/plain": [
       "(1800, 13)"
      ]
     },
     "execution_count": 20,
     "metadata": {},
     "output_type": "execute_result"
    }
   ],
   "source": [
    "y_validation.shape"
   ]
  },
  {
   "cell_type": "code",
   "execution_count": 21,
   "id": "14f5e0d1-53b4-40db-990f-e62dfb3824d4",
   "metadata": {
    "tags": []
   },
   "outputs": [
    {
     "name": "stdout",
     "output_type": "stream",
     "text": [
      "Epoch 1/200\n",
      "WARNING:tensorflow:From C:\\Users\\user\\anaconda3\\Lib\\site-packages\\keras\\src\\utils\\tf_utils.py:492: The name tf.ragged.RaggedTensorValue is deprecated. Please use tf.compat.v1.ragged.RaggedTensorValue instead.\n",
      "\n",
      "WARNING:tensorflow:From C:\\Users\\user\\anaconda3\\Lib\\site-packages\\keras\\src\\engine\\base_layer_utils.py:384: The name tf.executing_eagerly_outside_functions is deprecated. Please use tf.compat.v1.executing_eagerly_outside_functions instead.\n",
      "\n",
      "169/169 [==============================] - 19s 88ms/step - loss: 1.9628 - accuracy: 0.3695 - val_loss: 1.6585 - val_accuracy: 0.4583\n",
      "Epoch 2/200\n",
      "169/169 [==============================] - 14s 82ms/step - loss: 1.3187 - accuracy: 0.5446 - val_loss: 0.9529 - val_accuracy: 0.6267\n",
      "Epoch 3/200\n",
      "169/169 [==============================] - 14s 81ms/step - loss: 1.0676 - accuracy: 0.6165 - val_loss: 0.7860 - val_accuracy: 0.7150\n",
      "Epoch 4/200\n",
      "169/169 [==============================] - 14s 80ms/step - loss: 0.9351 - accuracy: 0.6591 - val_loss: 0.6598 - val_accuracy: 0.7667\n",
      "Epoch 5/200\n",
      "169/169 [==============================] - 14s 81ms/step - loss: 0.8437 - accuracy: 0.6843 - val_loss: 0.6595 - val_accuracy: 0.7394\n",
      "Epoch 6/200\n",
      "169/169 [==============================] - 14s 80ms/step - loss: 0.7601 - accuracy: 0.7226 - val_loss: 0.5790 - val_accuracy: 0.7861\n",
      "Epoch 7/200\n",
      "169/169 [==============================] - 14s 80ms/step - loss: 0.7365 - accuracy: 0.7361 - val_loss: 0.5787 - val_accuracy: 0.7867\n",
      "Epoch 8/200\n",
      "169/169 [==============================] - 14s 80ms/step - loss: 0.6916 - accuracy: 0.7424 - val_loss: 0.5896 - val_accuracy: 0.7850\n",
      "Epoch 9/200\n",
      "169/169 [==============================] - 14s 80ms/step - loss: 0.6761 - accuracy: 0.7584 - val_loss: 0.5670 - val_accuracy: 0.7883\n",
      "Epoch 10/200\n",
      "169/169 [==============================] - 14s 83ms/step - loss: 0.6205 - accuracy: 0.7754 - val_loss: 0.4731 - val_accuracy: 0.8300\n",
      "Epoch 11/200\n",
      "169/169 [==============================] - 14s 81ms/step - loss: 0.5971 - accuracy: 0.7847 - val_loss: 0.5314 - val_accuracy: 0.8006\n",
      "Epoch 12/200\n",
      "169/169 [==============================] - 13s 78ms/step - loss: 0.5677 - accuracy: 0.7901 - val_loss: 0.4582 - val_accuracy: 0.8267\n",
      "Epoch 13/200\n",
      "169/169 [==============================] - 13s 78ms/step - loss: 0.5676 - accuracy: 0.7903 - val_loss: 0.4443 - val_accuracy: 0.8389\n",
      "Epoch 14/200\n",
      "169/169 [==============================] - 13s 78ms/step - loss: 0.5496 - accuracy: 0.7990 - val_loss: 0.4282 - val_accuracy: 0.8450\n",
      "Epoch 15/200\n",
      "169/169 [==============================] - 14s 80ms/step - loss: 0.5450 - accuracy: 0.8023 - val_loss: 0.4178 - val_accuracy: 0.8389\n",
      "Epoch 16/200\n",
      "169/169 [==============================] - 14s 83ms/step - loss: 0.5148 - accuracy: 0.8138 - val_loss: 0.4585 - val_accuracy: 0.8317\n",
      "Epoch 17/200\n",
      "169/169 [==============================] - 14s 85ms/step - loss: 0.4940 - accuracy: 0.8216 - val_loss: 0.4393 - val_accuracy: 0.8317\n",
      "Epoch 18/200\n",
      "169/169 [==============================] - 14s 81ms/step - loss: 0.4698 - accuracy: 0.8275 - val_loss: 0.5500 - val_accuracy: 0.8078\n",
      "Epoch 19/200\n",
      "169/169 [==============================] - 14s 81ms/step - loss: 0.4628 - accuracy: 0.8306 - val_loss: 0.4379 - val_accuracy: 0.8450\n",
      "Epoch 20/200\n",
      "169/169 [==============================] - 15s 87ms/step - loss: 0.4572 - accuracy: 0.8332 - val_loss: 0.3951 - val_accuracy: 0.8561\n",
      "Epoch 21/200\n",
      "169/169 [==============================] - 14s 83ms/step - loss: 0.4337 - accuracy: 0.8423 - val_loss: 0.4068 - val_accuracy: 0.8533\n",
      "Epoch 22/200\n",
      "169/169 [==============================] - 14s 84ms/step - loss: 0.4339 - accuracy: 0.8425 - val_loss: 0.4753 - val_accuracy: 0.8256\n",
      "Epoch 23/200\n",
      "169/169 [==============================] - 15s 88ms/step - loss: 0.4346 - accuracy: 0.8453 - val_loss: 0.3859 - val_accuracy: 0.8561\n",
      "Epoch 24/200\n",
      "169/169 [==============================] - 14s 85ms/step - loss: 0.4215 - accuracy: 0.8518 - val_loss: 0.3933 - val_accuracy: 0.8572\n",
      "Epoch 25/200\n",
      "169/169 [==============================] - 14s 82ms/step - loss: 0.4191 - accuracy: 0.8510 - val_loss: 0.3347 - val_accuracy: 0.8700\n",
      "Epoch 26/200\n",
      "169/169 [==============================] - 14s 81ms/step - loss: 0.3912 - accuracy: 0.8590 - val_loss: 0.3770 - val_accuracy: 0.8661\n",
      "Epoch 27/200\n",
      "169/169 [==============================] - 14s 81ms/step - loss: 0.3818 - accuracy: 0.8577 - val_loss: 0.4028 - val_accuracy: 0.8561\n",
      "Epoch 28/200\n",
      "169/169 [==============================] - 14s 81ms/step - loss: 0.3877 - accuracy: 0.8621 - val_loss: 0.3828 - val_accuracy: 0.8594\n",
      "Epoch 29/200\n",
      "169/169 [==============================] - 14s 81ms/step - loss: 0.3748 - accuracy: 0.8694 - val_loss: 0.3712 - val_accuracy: 0.8650\n",
      "Epoch 30/200\n",
      "169/169 [==============================] - 13s 80ms/step - loss: 0.3859 - accuracy: 0.8636 - val_loss: 0.3538 - val_accuracy: 0.8694\n",
      "Epoch 31/200\n",
      "169/169 [==============================] - 14s 80ms/step - loss: 0.3635 - accuracy: 0.8684 - val_loss: 0.3121 - val_accuracy: 0.8867\n",
      "Epoch 32/200\n",
      "169/169 [==============================] - 14s 80ms/step - loss: 0.3557 - accuracy: 0.8744 - val_loss: 0.3495 - val_accuracy: 0.8656\n",
      "Epoch 33/200\n",
      "169/169 [==============================] - 14s 80ms/step - loss: 0.3351 - accuracy: 0.8805 - val_loss: 0.3895 - val_accuracy: 0.8611\n",
      "Epoch 34/200\n",
      "169/169 [==============================] - 14s 80ms/step - loss: 0.3286 - accuracy: 0.8848 - val_loss: 0.3493 - val_accuracy: 0.8761\n",
      "Epoch 35/200\n",
      "169/169 [==============================] - 14s 80ms/step - loss: 0.3311 - accuracy: 0.8794 - val_loss: 0.3380 - val_accuracy: 0.8717\n",
      "Epoch 36/200\n",
      "169/169 [==============================] - 14s 80ms/step - loss: 0.3514 - accuracy: 0.8749 - val_loss: 0.3464 - val_accuracy: 0.8772\n",
      "Epoch 37/200\n",
      "169/169 [==============================] - 13s 80ms/step - loss: 0.3008 - accuracy: 0.8894 - val_loss: 0.3128 - val_accuracy: 0.8767\n",
      "Epoch 38/200\n",
      "169/169 [==============================] - 14s 80ms/step - loss: 0.3327 - accuracy: 0.8835 - val_loss: 0.3319 - val_accuracy: 0.8794\n",
      "Epoch 39/200\n",
      "169/169 [==============================] - 14s 80ms/step - loss: 0.3053 - accuracy: 0.8905 - val_loss: 0.3242 - val_accuracy: 0.8772\n",
      "Epoch 40/200\n",
      "169/169 [==============================] - 14s 81ms/step - loss: 0.3174 - accuracy: 0.8885 - val_loss: 0.3225 - val_accuracy: 0.8761\n",
      "Epoch 41/200\n",
      "169/169 [==============================] - 14s 80ms/step - loss: 0.3196 - accuracy: 0.8799 - val_loss: 0.3128 - val_accuracy: 0.8939\n",
      "Epoch 42/200\n",
      "169/169 [==============================] - 14s 80ms/step - loss: 0.2993 - accuracy: 0.8920 - val_loss: 0.3391 - val_accuracy: 0.8689\n",
      "Epoch 43/200\n",
      "169/169 [==============================] - 14s 81ms/step - loss: 0.2961 - accuracy: 0.8974 - val_loss: 0.3101 - val_accuracy: 0.8917\n",
      "Epoch 44/200\n",
      "169/169 [==============================] - 14s 80ms/step - loss: 0.2901 - accuracy: 0.8955 - val_loss: 0.3202 - val_accuracy: 0.8850\n",
      "Epoch 45/200\n",
      "169/169 [==============================] - 14s 80ms/step - loss: 0.2835 - accuracy: 0.8964 - val_loss: 0.3199 - val_accuracy: 0.8839\n",
      "Epoch 46/200\n",
      "169/169 [==============================] - 14s 81ms/step - loss: 0.2975 - accuracy: 0.8920 - val_loss: 0.3146 - val_accuracy: 0.8894\n",
      "Epoch 47/200\n",
      "169/169 [==============================] - 14s 81ms/step - loss: 0.2702 - accuracy: 0.9053 - val_loss: 0.3372 - val_accuracy: 0.8894\n",
      "Epoch 48/200\n",
      "169/169 [==============================] - 13s 80ms/step - loss: 0.2795 - accuracy: 0.8986 - val_loss: 0.3266 - val_accuracy: 0.8828\n",
      "Epoch 49/200\n",
      "169/169 [==============================] - 14s 83ms/step - loss: 0.2501 - accuracy: 0.9081 - val_loss: 0.3000 - val_accuracy: 0.8867\n",
      "Epoch 50/200\n",
      "169/169 [==============================] - 14s 82ms/step - loss: 0.2549 - accuracy: 0.9114 - val_loss: 0.2850 - val_accuracy: 0.9022\n",
      "Epoch 51/200\n",
      "169/169 [==============================] - 14s 83ms/step - loss: 0.2550 - accuracy: 0.9062 - val_loss: 0.2820 - val_accuracy: 0.8972\n",
      "Epoch 52/200\n",
      "169/169 [==============================] - 14s 84ms/step - loss: 0.2584 - accuracy: 0.9064 - val_loss: 0.2982 - val_accuracy: 0.8883\n",
      "Epoch 53/200\n",
      "169/169 [==============================] - 14s 83ms/step - loss: 0.2439 - accuracy: 0.9135 - val_loss: 0.2784 - val_accuracy: 0.8933\n",
      "Epoch 54/200\n",
      "169/169 [==============================] - 15s 86ms/step - loss: 0.2512 - accuracy: 0.9075 - val_loss: 0.2830 - val_accuracy: 0.8972\n",
      "Epoch 55/200\n",
      "169/169 [==============================] - 14s 81ms/step - loss: 0.2458 - accuracy: 0.9137 - val_loss: 0.2668 - val_accuracy: 0.9028\n",
      "Epoch 56/200\n",
      "169/169 [==============================] - 14s 83ms/step - loss: 0.2329 - accuracy: 0.9131 - val_loss: 0.2980 - val_accuracy: 0.8872\n",
      "Epoch 57/200\n",
      "169/169 [==============================] - 14s 82ms/step - loss: 0.2439 - accuracy: 0.9096 - val_loss: 0.2765 - val_accuracy: 0.8994\n",
      "Epoch 58/200\n",
      "169/169 [==============================] - 14s 82ms/step - loss: 0.2267 - accuracy: 0.9179 - val_loss: 0.3653 - val_accuracy: 0.8783\n",
      "Epoch 59/200\n",
      "169/169 [==============================] - 14s 81ms/step - loss: 0.2425 - accuracy: 0.9111 - val_loss: 0.2827 - val_accuracy: 0.8944\n",
      "Epoch 60/200\n",
      "169/169 [==============================] - 14s 80ms/step - loss: 0.2349 - accuracy: 0.9150 - val_loss: 0.2871 - val_accuracy: 0.8989\n",
      "Epoch 61/200\n",
      "169/169 [==============================] - 14s 85ms/step - loss: 0.2302 - accuracy: 0.9168 - val_loss: 0.2528 - val_accuracy: 0.9050\n",
      "Epoch 62/200\n",
      "169/169 [==============================] - 15s 86ms/step - loss: 0.2286 - accuracy: 0.9155 - val_loss: 0.2782 - val_accuracy: 0.8961\n",
      "Epoch 63/200\n",
      "169/169 [==============================] - 14s 82ms/step - loss: 0.2063 - accuracy: 0.9268 - val_loss: 0.2719 - val_accuracy: 0.8972\n",
      "Epoch 64/200\n",
      "169/169 [==============================] - 15s 91ms/step - loss: 0.2244 - accuracy: 0.9220 - val_loss: 0.2758 - val_accuracy: 0.9000\n",
      "Epoch 65/200\n",
      "169/169 [==============================] - 13s 79ms/step - loss: 0.2268 - accuracy: 0.9175 - val_loss: 0.3025 - val_accuracy: 0.8950\n",
      "Epoch 66/200\n",
      "169/169 [==============================] - 13s 80ms/step - loss: 0.2330 - accuracy: 0.9137 - val_loss: 0.2521 - val_accuracy: 0.9033\n",
      "Epoch 67/200\n",
      "169/169 [==============================] - 13s 79ms/step - loss: 0.2110 - accuracy: 0.9253 - val_loss: 0.2902 - val_accuracy: 0.8967\n",
      "Epoch 68/200\n",
      "169/169 [==============================] - 13s 79ms/step - loss: 0.2134 - accuracy: 0.9238 - val_loss: 0.2536 - val_accuracy: 0.9111\n",
      "Epoch 69/200\n",
      "169/169 [==============================] - 13s 79ms/step - loss: 0.2204 - accuracy: 0.9198 - val_loss: 0.2536 - val_accuracy: 0.9083\n",
      "Epoch 70/200\n",
      "169/169 [==============================] - 13s 79ms/step - loss: 0.2236 - accuracy: 0.9211 - val_loss: 0.3591 - val_accuracy: 0.8744\n",
      "Epoch 71/200\n",
      "169/169 [==============================] - 14s 81ms/step - loss: 0.2023 - accuracy: 0.9274 - val_loss: 0.2692 - val_accuracy: 0.8994\n",
      "Epoch 72/200\n",
      "169/169 [==============================] - 14s 82ms/step - loss: 0.2058 - accuracy: 0.9270 - val_loss: 0.3098 - val_accuracy: 0.9000\n",
      "Epoch 73/200\n",
      "169/169 [==============================] - 14s 83ms/step - loss: 0.1982 - accuracy: 0.9285 - val_loss: 0.3003 - val_accuracy: 0.9033\n",
      "Epoch 74/200\n",
      "169/169 [==============================] - 15s 86ms/step - loss: 0.1946 - accuracy: 0.9298 - val_loss: 0.2630 - val_accuracy: 0.9100\n",
      "Epoch 75/200\n",
      "169/169 [==============================] - 15s 86ms/step - loss: 0.2011 - accuracy: 0.9327 - val_loss: 0.2745 - val_accuracy: 0.9061\n",
      "Epoch 76/200\n",
      "169/169 [==============================] - 14s 85ms/step - loss: 0.2005 - accuracy: 0.9270 - val_loss: 0.2696 - val_accuracy: 0.9006\n",
      "Epoch 77/200\n",
      "169/169 [==============================] - 14s 83ms/step - loss: 0.1955 - accuracy: 0.9314 - val_loss: 0.2896 - val_accuracy: 0.9022\n",
      "Epoch 78/200\n",
      "169/169 [==============================] - 13s 79ms/step - loss: 0.1885 - accuracy: 0.9333 - val_loss: 0.2513 - val_accuracy: 0.9100\n",
      "Epoch 79/200\n",
      "169/169 [==============================] - 13s 79ms/step - loss: 0.1808 - accuracy: 0.9298 - val_loss: 0.2632 - val_accuracy: 0.9061\n",
      "Epoch 80/200\n",
      "169/169 [==============================] - 13s 79ms/step - loss: 0.1935 - accuracy: 0.9314 - val_loss: 0.2650 - val_accuracy: 0.9039\n",
      "Epoch 81/200\n",
      "169/169 [==============================] - 13s 79ms/step - loss: 0.2007 - accuracy: 0.9320 - val_loss: 0.2944 - val_accuracy: 0.9022\n",
      "Epoch 82/200\n",
      "169/169 [==============================] - 13s 79ms/step - loss: 0.1862 - accuracy: 0.9357 - val_loss: 0.2784 - val_accuracy: 0.9050\n",
      "Epoch 83/200\n",
      "169/169 [==============================] - 13s 79ms/step - loss: 0.1736 - accuracy: 0.9344 - val_loss: 0.2578 - val_accuracy: 0.9106\n",
      "Epoch 84/200\n",
      "169/169 [==============================] - 13s 79ms/step - loss: 0.1902 - accuracy: 0.9368 - val_loss: 0.2577 - val_accuracy: 0.9150\n",
      "Epoch 85/200\n",
      "169/169 [==============================] - 13s 79ms/step - loss: 0.1877 - accuracy: 0.9361 - val_loss: 0.2907 - val_accuracy: 0.8928\n",
      "Epoch 86/200\n",
      "169/169 [==============================] - 14s 82ms/step - loss: 0.1857 - accuracy: 0.9357 - val_loss: 0.3076 - val_accuracy: 0.9022\n",
      "Epoch 87/200\n",
      "169/169 [==============================] - 14s 81ms/step - loss: 0.1735 - accuracy: 0.9363 - val_loss: 0.2426 - val_accuracy: 0.9156\n",
      "Epoch 88/200\n",
      "169/169 [==============================] - 14s 80ms/step - loss: 0.1757 - accuracy: 0.9366 - val_loss: 0.2733 - val_accuracy: 0.9056\n",
      "Epoch 89/200\n",
      "169/169 [==============================] - 14s 81ms/step - loss: 0.1774 - accuracy: 0.9359 - val_loss: 0.2596 - val_accuracy: 0.9050\n",
      "Epoch 90/200\n",
      "169/169 [==============================] - 13s 79ms/step - loss: 0.1627 - accuracy: 0.9433 - val_loss: 0.2596 - val_accuracy: 0.9078\n",
      "Epoch 91/200\n",
      "169/169 [==============================] - 13s 79ms/step - loss: 0.1834 - accuracy: 0.9368 - val_loss: 0.2620 - val_accuracy: 0.9128\n",
      "Epoch 92/200\n",
      "169/169 [==============================] - 13s 79ms/step - loss: 0.1722 - accuracy: 0.9394 - val_loss: 0.2349 - val_accuracy: 0.9217\n",
      "Epoch 93/200\n",
      "169/169 [==============================] - 13s 79ms/step - loss: 0.1688 - accuracy: 0.9433 - val_loss: 0.2508 - val_accuracy: 0.9183\n",
      "Epoch 94/200\n",
      "169/169 [==============================] - 13s 79ms/step - loss: 0.1525 - accuracy: 0.9440 - val_loss: 0.2545 - val_accuracy: 0.9150\n",
      "Epoch 95/200\n",
      "169/169 [==============================] - 13s 79ms/step - loss: 0.1676 - accuracy: 0.9407 - val_loss: 0.2766 - val_accuracy: 0.9094\n",
      "Epoch 96/200\n",
      "169/169 [==============================] - 13s 79ms/step - loss: 0.1509 - accuracy: 0.9463 - val_loss: 0.2883 - val_accuracy: 0.8967\n",
      "Epoch 97/200\n",
      "169/169 [==============================] - 13s 79ms/step - loss: 0.1541 - accuracy: 0.9442 - val_loss: 0.2895 - val_accuracy: 0.9011\n",
      "Epoch 98/200\n",
      "169/169 [==============================] - 13s 79ms/step - loss: 0.1613 - accuracy: 0.9457 - val_loss: 0.2854 - val_accuracy: 0.9044\n",
      "Epoch 99/200\n",
      "169/169 [==============================] - 13s 79ms/step - loss: 0.1693 - accuracy: 0.9402 - val_loss: 0.2821 - val_accuracy: 0.9144\n",
      "Epoch 100/200\n",
      "169/169 [==============================] - 13s 79ms/step - loss: 0.1510 - accuracy: 0.9444 - val_loss: 0.2979 - val_accuracy: 0.9039\n",
      "Epoch 101/200\n",
      "169/169 [==============================] - 13s 79ms/step - loss: 0.1660 - accuracy: 0.9427 - val_loss: 0.2487 - val_accuracy: 0.9056\n",
      "Epoch 102/200\n",
      "169/169 [==============================] - 13s 79ms/step - loss: 0.1438 - accuracy: 0.9498 - val_loss: 0.2505 - val_accuracy: 0.9144\n",
      "Epoch 103/200\n",
      "169/169 [==============================] - 13s 79ms/step - loss: 0.1437 - accuracy: 0.9465 - val_loss: 0.2927 - val_accuracy: 0.9022\n",
      "Epoch 104/200\n",
      "169/169 [==============================] - 13s 79ms/step - loss: 0.1524 - accuracy: 0.9465 - val_loss: 0.2420 - val_accuracy: 0.9106\n",
      "Epoch 105/200\n",
      "169/169 [==============================] - 13s 79ms/step - loss: 0.1476 - accuracy: 0.9446 - val_loss: 0.2917 - val_accuracy: 0.9044\n",
      "Epoch 106/200\n",
      "169/169 [==============================] - 13s 79ms/step - loss: 0.1585 - accuracy: 0.9468 - val_loss: 0.2562 - val_accuracy: 0.9128\n",
      "Epoch 107/200\n",
      "169/169 [==============================] - 13s 79ms/step - loss: 0.1456 - accuracy: 0.9509 - val_loss: 0.2857 - val_accuracy: 0.9089\n",
      "Epoch 108/200\n",
      "169/169 [==============================] - 13s 79ms/step - loss: 0.1579 - accuracy: 0.9457 - val_loss: 0.2503 - val_accuracy: 0.9150\n",
      "Epoch 109/200\n",
      "169/169 [==============================] - 13s 79ms/step - loss: 0.1488 - accuracy: 0.9490 - val_loss: 0.2403 - val_accuracy: 0.9233\n",
      "Epoch 110/200\n",
      "169/169 [==============================] - 13s 79ms/step - loss: 0.1376 - accuracy: 0.9526 - val_loss: 0.2545 - val_accuracy: 0.9144\n",
      "Epoch 111/200\n",
      "169/169 [==============================] - 13s 79ms/step - loss: 0.1440 - accuracy: 0.9513 - val_loss: 0.2475 - val_accuracy: 0.9183\n",
      "Epoch 112/200\n",
      "169/169 [==============================] - 13s 79ms/step - loss: 0.1545 - accuracy: 0.9453 - val_loss: 0.2384 - val_accuracy: 0.9194\n",
      "Epoch 113/200\n",
      "169/169 [==============================] - 13s 79ms/step - loss: 0.1311 - accuracy: 0.9513 - val_loss: 0.2670 - val_accuracy: 0.9089\n",
      "Epoch 114/200\n",
      "169/169 [==============================] - 13s 79ms/step - loss: 0.1409 - accuracy: 0.9507 - val_loss: 0.2643 - val_accuracy: 0.9144\n",
      "Epoch 115/200\n",
      "169/169 [==============================] - 13s 79ms/step - loss: 0.1417 - accuracy: 0.9524 - val_loss: 0.3411 - val_accuracy: 0.8944\n",
      "Epoch 116/200\n",
      "169/169 [==============================] - 14s 80ms/step - loss: 0.1442 - accuracy: 0.9503 - val_loss: 0.3071 - val_accuracy: 0.9128\n",
      "Epoch 117/200\n",
      "169/169 [==============================] - 13s 80ms/step - loss: 0.1521 - accuracy: 0.9479 - val_loss: 0.3121 - val_accuracy: 0.9128\n",
      "Epoch 118/200\n",
      "169/169 [==============================] - 14s 81ms/step - loss: 0.1331 - accuracy: 0.9520 - val_loss: 0.2499 - val_accuracy: 0.9139\n",
      "Epoch 119/200\n",
      "169/169 [==============================] - 13s 79ms/step - loss: 0.1301 - accuracy: 0.9505 - val_loss: 0.3332 - val_accuracy: 0.9006\n",
      "Epoch 120/200\n",
      "169/169 [==============================] - 13s 79ms/step - loss: 0.1371 - accuracy: 0.9505 - val_loss: 0.2487 - val_accuracy: 0.9217\n",
      "Epoch 121/200\n",
      "169/169 [==============================] - 14s 81ms/step - loss: 0.1467 - accuracy: 0.9492 - val_loss: 0.2448 - val_accuracy: 0.9172\n",
      "Epoch 122/200\n",
      "169/169 [==============================] - 13s 79ms/step - loss: 0.1295 - accuracy: 0.9540 - val_loss: 0.2476 - val_accuracy: 0.9172\n",
      "Epoch 123/200\n",
      "169/169 [==============================] - 13s 79ms/step - loss: 0.1409 - accuracy: 0.9518 - val_loss: 0.2810 - val_accuracy: 0.9156\n",
      "Epoch 124/200\n",
      "169/169 [==============================] - 13s 79ms/step - loss: 0.1285 - accuracy: 0.9555 - val_loss: 0.2672 - val_accuracy: 0.9194\n",
      "Epoch 125/200\n",
      "169/169 [==============================] - 14s 81ms/step - loss: 0.1395 - accuracy: 0.9542 - val_loss: 0.2410 - val_accuracy: 0.9267\n",
      "Epoch 126/200\n",
      "169/169 [==============================] - 14s 81ms/step - loss: 0.1295 - accuracy: 0.9535 - val_loss: 0.2374 - val_accuracy: 0.9211\n",
      "Epoch 127/200\n",
      "169/169 [==============================] - 14s 81ms/step - loss: 0.1416 - accuracy: 0.9548 - val_loss: 0.2373 - val_accuracy: 0.9289\n",
      "Epoch 128/200\n",
      "169/169 [==============================] - 14s 81ms/step - loss: 0.1305 - accuracy: 0.9531 - val_loss: 0.2463 - val_accuracy: 0.9156\n",
      "Epoch 129/200\n",
      "169/169 [==============================] - 14s 81ms/step - loss: 0.1258 - accuracy: 0.9555 - val_loss: 0.2564 - val_accuracy: 0.9161\n",
      "Epoch 130/200\n",
      "169/169 [==============================] - 14s 81ms/step - loss: 0.1369 - accuracy: 0.9531 - val_loss: 0.2423 - val_accuracy: 0.9133\n",
      "Epoch 131/200\n",
      "169/169 [==============================] - 14s 81ms/step - loss: 0.1159 - accuracy: 0.9594 - val_loss: 0.2537 - val_accuracy: 0.9211\n",
      "Epoch 132/200\n",
      "169/169 [==============================] - 14s 81ms/step - loss: 0.1358 - accuracy: 0.9531 - val_loss: 0.2582 - val_accuracy: 0.9122\n",
      "Epoch 133/200\n",
      "169/169 [==============================] - 14s 81ms/step - loss: 0.1090 - accuracy: 0.9607 - val_loss: 0.2523 - val_accuracy: 0.9200\n",
      "Epoch 134/200\n",
      "169/169 [==============================] - 14s 81ms/step - loss: 0.1137 - accuracy: 0.9583 - val_loss: 0.2664 - val_accuracy: 0.9144\n",
      "Epoch 135/200\n",
      "169/169 [==============================] - 14s 80ms/step - loss: 0.1309 - accuracy: 0.9544 - val_loss: 0.2773 - val_accuracy: 0.9172\n",
      "Epoch 136/200\n",
      "169/169 [==============================] - 14s 80ms/step - loss: 0.1266 - accuracy: 0.9546 - val_loss: 0.2371 - val_accuracy: 0.9222\n",
      "Epoch 137/200\n",
      "169/169 [==============================] - 14s 81ms/step - loss: 0.1157 - accuracy: 0.9591 - val_loss: 0.2883 - val_accuracy: 0.9233\n",
      "Epoch 138/200\n",
      "169/169 [==============================] - 13s 79ms/step - loss: 0.1228 - accuracy: 0.9568 - val_loss: 0.2495 - val_accuracy: 0.9211\n",
      "Epoch 139/200\n",
      "169/169 [==============================] - 13s 79ms/step - loss: 0.1311 - accuracy: 0.9552 - val_loss: 0.2431 - val_accuracy: 0.9167\n",
      "Epoch 140/200\n",
      "169/169 [==============================] - 13s 79ms/step - loss: 0.1152 - accuracy: 0.9620 - val_loss: 0.2566 - val_accuracy: 0.9211\n",
      "Epoch 141/200\n",
      "169/169 [==============================] - 13s 80ms/step - loss: 0.1056 - accuracy: 0.9626 - val_loss: 0.2894 - val_accuracy: 0.9161\n",
      "Epoch 142/200\n",
      "169/169 [==============================] - 13s 79ms/step - loss: 0.1181 - accuracy: 0.9574 - val_loss: 0.2594 - val_accuracy: 0.9144\n",
      "Epoch 143/200\n",
      "169/169 [==============================] - 13s 80ms/step - loss: 0.1131 - accuracy: 0.9611 - val_loss: 0.2695 - val_accuracy: 0.9094\n",
      "Epoch 144/200\n",
      "169/169 [==============================] - 13s 80ms/step - loss: 0.1116 - accuracy: 0.9596 - val_loss: 0.2450 - val_accuracy: 0.9267\n",
      "Epoch 145/200\n",
      "169/169 [==============================] - 14s 80ms/step - loss: 0.1129 - accuracy: 0.9605 - val_loss: 0.2699 - val_accuracy: 0.9194\n",
      "Epoch 146/200\n",
      "169/169 [==============================] - 13s 79ms/step - loss: 0.1271 - accuracy: 0.9563 - val_loss: 0.2600 - val_accuracy: 0.9139\n",
      "Epoch 147/200\n",
      "169/169 [==============================] - 13s 79ms/step - loss: 0.1150 - accuracy: 0.9624 - val_loss: 0.2484 - val_accuracy: 0.9311\n",
      "Epoch 148/200\n",
      "169/169 [==============================] - 13s 79ms/step - loss: 0.1046 - accuracy: 0.9607 - val_loss: 0.2767 - val_accuracy: 0.9150\n",
      "Epoch 149/200\n",
      "169/169 [==============================] - 13s 79ms/step - loss: 0.1018 - accuracy: 0.9670 - val_loss: 0.2405 - val_accuracy: 0.9250\n",
      "Epoch 150/200\n",
      "169/169 [==============================] - 14s 80ms/step - loss: 0.1037 - accuracy: 0.9654 - val_loss: 0.2374 - val_accuracy: 0.9256\n",
      "Epoch 151/200\n",
      "169/169 [==============================] - 13s 80ms/step - loss: 0.1067 - accuracy: 0.9641 - val_loss: 0.2440 - val_accuracy: 0.9278\n",
      "Epoch 152/200\n",
      "169/169 [==============================] - 13s 80ms/step - loss: 0.1204 - accuracy: 0.9572 - val_loss: 0.2572 - val_accuracy: 0.9194\n",
      "Epoch 153/200\n",
      "169/169 [==============================] - 14s 82ms/step - loss: 0.1096 - accuracy: 0.9631 - val_loss: 0.2507 - val_accuracy: 0.9228\n",
      "Epoch 154/200\n",
      "169/169 [==============================] - 14s 81ms/step - loss: 0.1096 - accuracy: 0.9602 - val_loss: 0.2453 - val_accuracy: 0.9217\n",
      "Epoch 155/200\n",
      "169/169 [==============================] - 14s 82ms/step - loss: 0.1186 - accuracy: 0.9624 - val_loss: 0.2513 - val_accuracy: 0.9256\n",
      "Epoch 156/200\n",
      "169/169 [==============================] - 14s 81ms/step - loss: 0.1073 - accuracy: 0.9611 - val_loss: 0.3042 - val_accuracy: 0.9128\n",
      "Epoch 157/200\n",
      "169/169 [==============================] - 14s 81ms/step - loss: 0.1160 - accuracy: 0.9613 - val_loss: 0.2562 - val_accuracy: 0.9244\n",
      "Epoch 158/200\n",
      "169/169 [==============================] - 13s 79ms/step - loss: 0.1043 - accuracy: 0.9648 - val_loss: 0.2573 - val_accuracy: 0.9256\n",
      "Epoch 159/200\n",
      "169/169 [==============================] - 13s 79ms/step - loss: 0.1087 - accuracy: 0.9622 - val_loss: 0.2667 - val_accuracy: 0.9178\n",
      "Epoch 160/200\n",
      "169/169 [==============================] - 13s 79ms/step - loss: 0.1185 - accuracy: 0.9605 - val_loss: 0.2899 - val_accuracy: 0.9156\n",
      "Epoch 161/200\n",
      "169/169 [==============================] - 13s 79ms/step - loss: 0.1039 - accuracy: 0.9661 - val_loss: 0.3095 - val_accuracy: 0.9156\n",
      "Epoch 162/200\n",
      "169/169 [==============================] - 13s 79ms/step - loss: 0.1127 - accuracy: 0.9589 - val_loss: 0.2850 - val_accuracy: 0.9139\n",
      "Epoch 163/200\n",
      "169/169 [==============================] - 13s 79ms/step - loss: 0.1034 - accuracy: 0.9657 - val_loss: 0.2630 - val_accuracy: 0.9222\n",
      "Epoch 164/200\n",
      "169/169 [==============================] - 13s 80ms/step - loss: 0.1027 - accuracy: 0.9626 - val_loss: 0.2553 - val_accuracy: 0.9261\n",
      "Epoch 165/200\n",
      "169/169 [==============================] - 13s 80ms/step - loss: 0.0987 - accuracy: 0.9628 - val_loss: 0.2541 - val_accuracy: 0.9206\n",
      "Epoch 166/200\n",
      "169/169 [==============================] - 13s 79ms/step - loss: 0.0996 - accuracy: 0.9650 - val_loss: 0.2422 - val_accuracy: 0.9261\n",
      "Epoch 167/200\n",
      "169/169 [==============================] - 13s 79ms/step - loss: 0.1055 - accuracy: 0.9644 - val_loss: 0.2498 - val_accuracy: 0.9239\n",
      "Epoch 168/200\n",
      "169/169 [==============================] - 13s 79ms/step - loss: 0.1022 - accuracy: 0.9654 - val_loss: 0.2471 - val_accuracy: 0.9306\n",
      "Epoch 169/200\n",
      "169/169 [==============================] - 13s 79ms/step - loss: 0.0982 - accuracy: 0.9663 - val_loss: 0.2428 - val_accuracy: 0.9206\n",
      "Epoch 170/200\n",
      "169/169 [==============================] - 13s 79ms/step - loss: 0.1090 - accuracy: 0.9633 - val_loss: 0.2869 - val_accuracy: 0.9183\n",
      "Epoch 171/200\n",
      "169/169 [==============================] - 13s 79ms/step - loss: 0.0931 - accuracy: 0.9666 - val_loss: 0.2755 - val_accuracy: 0.9156\n",
      "Epoch 172/200\n",
      "169/169 [==============================] - 13s 79ms/step - loss: 0.0995 - accuracy: 0.9639 - val_loss: 0.3003 - val_accuracy: 0.9150\n",
      "Epoch 173/200\n",
      "169/169 [==============================] - 13s 79ms/step - loss: 0.1104 - accuracy: 0.9633 - val_loss: 0.2647 - val_accuracy: 0.9250\n",
      "Epoch 174/200\n",
      "169/169 [==============================] - 13s 79ms/step - loss: 0.1056 - accuracy: 0.9644 - val_loss: 0.2514 - val_accuracy: 0.9189\n",
      "Epoch 175/200\n",
      "169/169 [==============================] - 13s 79ms/step - loss: 0.0913 - accuracy: 0.9655 - val_loss: 0.2557 - val_accuracy: 0.9256\n",
      "Epoch 176/200\n",
      "169/169 [==============================] - 13s 80ms/step - loss: 0.0982 - accuracy: 0.9691 - val_loss: 0.2736 - val_accuracy: 0.9222\n",
      "Epoch 177/200\n",
      "169/169 [==============================] - 13s 79ms/step - loss: 0.1065 - accuracy: 0.9637 - val_loss: 0.2623 - val_accuracy: 0.9206\n",
      "Epoch 178/200\n",
      "169/169 [==============================] - 13s 79ms/step - loss: 0.0999 - accuracy: 0.9635 - val_loss: 0.2952 - val_accuracy: 0.9211\n",
      "Epoch 179/200\n",
      "169/169 [==============================] - 13s 79ms/step - loss: 0.0994 - accuracy: 0.9646 - val_loss: 0.2483 - val_accuracy: 0.9267\n",
      "Epoch 180/200\n",
      "169/169 [==============================] - 13s 79ms/step - loss: 0.0932 - accuracy: 0.9694 - val_loss: 0.2660 - val_accuracy: 0.9200\n",
      "Epoch 181/200\n",
      "169/169 [==============================] - 13s 79ms/step - loss: 0.1055 - accuracy: 0.9635 - val_loss: 0.2662 - val_accuracy: 0.9150\n",
      "Epoch 182/200\n",
      "169/169 [==============================] - 13s 79ms/step - loss: 0.0856 - accuracy: 0.9709 - val_loss: 0.2663 - val_accuracy: 0.9244\n",
      "Epoch 183/200\n",
      "169/169 [==============================] - 13s 79ms/step - loss: 0.0993 - accuracy: 0.9668 - val_loss: 0.2601 - val_accuracy: 0.9178\n",
      "Epoch 184/200\n",
      "169/169 [==============================] - 13s 79ms/step - loss: 0.0980 - accuracy: 0.9657 - val_loss: 0.2365 - val_accuracy: 0.9294\n",
      "Epoch 185/200\n",
      "169/169 [==============================] - 14s 81ms/step - loss: 0.0950 - accuracy: 0.9665 - val_loss: 0.2724 - val_accuracy: 0.9222\n",
      "Epoch 186/200\n",
      "169/169 [==============================] - 14s 80ms/step - loss: 0.0865 - accuracy: 0.9689 - val_loss: 0.3184 - val_accuracy: 0.9133\n",
      "Epoch 187/200\n",
      "169/169 [==============================] - 13s 80ms/step - loss: 0.0984 - accuracy: 0.9661 - val_loss: 0.2764 - val_accuracy: 0.9150\n",
      "Epoch 188/200\n",
      "169/169 [==============================] - 14s 80ms/step - loss: 0.0900 - accuracy: 0.9670 - val_loss: 0.2562 - val_accuracy: 0.9217\n",
      "Epoch 189/200\n",
      "169/169 [==============================] - 14s 81ms/step - loss: 0.0952 - accuracy: 0.9665 - val_loss: 0.2403 - val_accuracy: 0.9261\n",
      "Epoch 190/200\n",
      "169/169 [==============================] - 14s 80ms/step - loss: 0.1153 - accuracy: 0.9578 - val_loss: 0.2500 - val_accuracy: 0.9189\n",
      "Epoch 191/200\n",
      "169/169 [==============================] - 13s 80ms/step - loss: 0.0839 - accuracy: 0.9720 - val_loss: 0.2725 - val_accuracy: 0.9211\n",
      "Epoch 192/200\n",
      "169/169 [==============================] - 13s 80ms/step - loss: 0.0859 - accuracy: 0.9683 - val_loss: 0.2698 - val_accuracy: 0.9206\n",
      "Epoch 193/200\n",
      "169/169 [==============================] - 13s 80ms/step - loss: 0.0991 - accuracy: 0.9652 - val_loss: 0.2871 - val_accuracy: 0.9161\n",
      "Epoch 194/200\n",
      "169/169 [==============================] - 13s 79ms/step - loss: 0.0843 - accuracy: 0.9718 - val_loss: 0.2667 - val_accuracy: 0.9228\n",
      "Epoch 195/200\n",
      "169/169 [==============================] - 13s 80ms/step - loss: 0.0919 - accuracy: 0.9670 - val_loss: 0.2747 - val_accuracy: 0.9200\n",
      "Epoch 196/200\n",
      "169/169 [==============================] - 13s 80ms/step - loss: 0.0878 - accuracy: 0.9685 - val_loss: 0.2970 - val_accuracy: 0.9139\n",
      "Epoch 197/200\n",
      "169/169 [==============================] - 13s 80ms/step - loss: 0.0772 - accuracy: 0.9726 - val_loss: 0.2763 - val_accuracy: 0.9189\n",
      "Epoch 198/200\n",
      "169/169 [==============================] - 13s 80ms/step - loss: 0.1020 - accuracy: 0.9633 - val_loss: 0.2412 - val_accuracy: 0.9261\n",
      "Epoch 199/200\n",
      "169/169 [==============================] - 13s 79ms/step - loss: 0.0737 - accuracy: 0.9752 - val_loss: 0.2860 - val_accuracy: 0.9228\n",
      "Epoch 200/200\n",
      "169/169 [==============================] - 13s 79ms/step - loss: 0.0975 - accuracy: 0.9650 - val_loss: 0.2567 - val_accuracy: 0.9250\n"
     ]
    },
    {
     "data": {
      "text/plain": [
       "<keras.src.callbacks.History at 0x212a0b994d0>"
      ]
     },
     "execution_count": 21,
     "metadata": {},
     "output_type": "execute_result"
    }
   ],
   "source": [
    "model.fit(X_train_trans,y_train,batch_size=32,validation_data=(X_validation_trans,y_validation),epochs=200)"
   ]
  },
  {
   "cell_type": "code",
   "execution_count": 22,
   "id": "0a329af5-7457-4165-a69e-3dec84de6f1c",
   "metadata": {
    "tags": []
   },
   "outputs": [
    {
     "name": "stdout",
     "output_type": "stream",
     "text": [
      "57/57 [==============================] - 35s 616ms/step\n",
      "57/57 [==============================] - 0s 6ms/step - loss: 0.2312 - accuracy: 0.9317\n"
     ]
    },
    {
     "data": {
      "text/plain": [
       "[0.23124007880687714, 0.9316666722297668]"
      ]
     },
     "execution_count": 22,
     "metadata": {},
     "output_type": "execute_result"
    }
   ],
   "source": [
    "model.evaluate(conv_base.predict(X_test),y_test)"
   ]
  },
  {
   "cell_type": "code",
   "execution_count": 50,
   "id": "fb48d77a-bdf4-462d-a298-57c8304cf432",
   "metadata": {
    "tags": []
   },
   "outputs": [
    {
     "name": "stderr",
     "output_type": "stream",
     "text": [
      "C:\\Users\\user\\AppData\\Local\\Temp\\ipykernel_2060\\3743905232.py:1: UserWarning: You are saving your model as an HDF5 file via `model.save()`. This file format is considered legacy. We recommend using instead the native Keras format, e.g. `model.save('my_model.keras')`.\n",
      "  save_model(model, 'C:\\\\Users\\\\user\\\\Desktop\\\\sprint_test_II\\\\_data_analysis\\\\code\\\\self_model\\\\model_sky.h5')\n"
     ]
    }
   ],
   "source": [
    "save_model(model, 'C:\\\\Users\\\\user\\\\Desktop\\\\sprint_test_II\\\\_data_analysis\\\\code\\\\self_model\\\\model_sky.h5')"
   ]
  },
  {
   "cell_type": "code",
   "execution_count": 51,
   "id": "3bfa3fdc-104a-43ff-b740-75ee0b1e8a93",
   "metadata": {
    "tags": []
   },
   "outputs": [
    {
     "name": "stdout",
     "output_type": "stream",
     "text": [
      "WARNING:tensorflow:Compiled the loaded model, but the compiled metrics have yet to be built. `model.compile_metrics` will be empty until you train or evaluate the model.\n"
     ]
    },
    {
     "name": "stderr",
     "output_type": "stream",
     "text": [
      "C:\\Users\\user\\AppData\\Local\\Temp\\ipykernel_2060\\3440244443.py:1: UserWarning: You are saving your model as an HDF5 file via `model.save()`. This file format is considered legacy. We recommend using instead the native Keras format, e.g. `model.save('my_model.keras')`.\n",
      "  save_model(conv_base,'C:\\\\Users\\\\user\\\\Desktop\\\\sprint_test_II\\\\_data_analysis\\\\code\\\\self_model\\\\VGG16_model_sky.h5')\n"
     ]
    }
   ],
   "source": [
    "save_model(conv_base,'C:\\\\Users\\\\user\\\\Desktop\\\\sprint_test_II\\\\_data_analysis\\\\code\\\\self_model\\\\VGG16_model_sky.h5')"
   ]
  },
  {
   "cell_type": "code",
   "execution_count": 52,
   "id": "c34d691d-9bb2-40a0-b19e-aad3902389b0",
   "metadata": {
    "tags": []
   },
   "outputs": [],
   "source": [
    "new_model = load_model('C:\\\\Users\\\\user\\\\Desktop\\\\sprint_test_II\\\\_data_analysis\\\\code\\\\self_model\\\\\\model_sky.h5')"
   ]
  },
  {
   "cell_type": "code",
   "execution_count": 53,
   "id": "c5ef4615-c0f1-4341-b60d-26e020fb3db6",
   "metadata": {},
   "outputs": [
    {
     "name": "stdout",
     "output_type": "stream",
     "text": [
      "WARNING:tensorflow:No training configuration found in the save file, so the model was *not* compiled. Compile it manually.\n"
     ]
    }
   ],
   "source": [
    "new_conv = load_model('C:\\\\Users\\\\user\\\\Desktop\\\\sprint_test_II\\\\_data_analysis\\\\code\\\\self_model\\\\VGG16_model_sky.h5')"
   ]
  },
  {
   "cell_type": "code",
   "execution_count": 54,
   "id": "90596cc5-f126-420b-9ff0-aa60095bf6c3",
   "metadata": {
    "tags": []
   },
   "outputs": [],
   "source": [
    "labels_dic = {\n",
    "    \"0to500\" : 0\n",
    "    ,\"501to1000\" : 1\n",
    "    ,\"1001to1500\" : 2\n",
    "    ,\"1501to2000\" : 3\n",
    "    ,\"2001to2500\" : 4\n",
    "    ,\"2501to3000\" : 5\n",
    "    ,\"3001to3501\" : 6\n",
    "    ,\"4000to4500\" : 7\n",
    "    ,\"4501to5000\" : 8\n",
    "    ,\"5001to5500\" : 9\n",
    "    ,\"5501to6000\" : 10\n",
    "    ,\"6001to6500\" : 11\n",
    "    ,\"6501to7000\" : 12\n",
    "    ,\"7001to7500\" : 13\n",
    "    ,\"7501to8000\" : 14\n",
    "}\n",
    "\n",
    "labels_dic = {v:k for k,v in labels_dic.items()} "
   ]
  },
  {
   "cell_type": "code",
   "execution_count": 55,
   "id": "e5d9c9b2-76d2-417a-bf4b-79169f4bb776",
   "metadata": {
    "tags": []
   },
   "outputs": [],
   "source": [
    "def model_predict(x, conv_base):\n",
    "    x1 = cv.resize(x,(150,150))\n",
    "    x1 = x1[:,:,:3]\n",
    "    x1 = x1.reshape(1,150,150,3)\n",
    "    answer=np.argmax(new_model.predict(conv_base.predict(x1)))\n",
    "    return answer"
   ]
  },
  {
   "cell_type": "code",
   "execution_count": 56,
   "id": "ec016d75-df63-40a5-a3be-224399fadfc6",
   "metadata": {
    "scrolled": true,
    "tags": []
   },
   "outputs": [
    {
     "name": "stdout",
     "output_type": "stream",
     "text": [
      "1/1 [==============================] - 0s 133ms/step\n",
      "1/1 [==============================] - 0s 161ms/step\n"
     ]
    },
    {
     "data": {
      "text/plain": [
       "1"
      ]
     },
     "execution_count": 56,
     "metadata": {},
     "output_type": "execute_result"
    }
   ],
   "source": [
    "x=plt.imread('C:\\\\Users\\\\user\\\\Desktop\\\\sprint_test_II\\\\_data_analysis\\\\test_photo\\\\22_01_2024\\\\13.jpg')\n",
    "model_predict(x, new_conv)"
   ]
  },
  {
   "cell_type": "code",
   "execution_count": 57,
   "id": "e2581d07-571e-425a-9f6f-6778ee3a1381",
   "metadata": {
    "tags": []
   },
   "outputs": [],
   "source": [
    "x10 = plt.imread('C:\\\\Users\\\\user\\\\Desktop\\\\sprint_test_II\\\\_data_analysis\\\\test_photo\\\\19_01_2024\\\\10.jpg')\n",
    "x11 = plt.imread('C:\\\\Users\\\\user\\\\Desktop\\\\sprint_test_II\\\\_data_analysis\\\\test_photo\\\\19_01_2024\\\\11.jpg')\n",
    "x12 = plt.imread('C:\\\\Users\\\\user\\\\Desktop\\\\sprint_test_II\\\\_data_analysis\\\\test_photo\\\\19_01_2024\\\\12.jpg')\n",
    "x13 = plt.imread('C:\\\\Users\\\\user\\\\Desktop\\\\sprint_test_II\\\\_data_analysis\\\\test_photo\\\\19_01_2024\\\\13.jpg')\n",
    "x14 = plt.imread('C:\\\\Users\\\\user\\\\Desktop\\\\sprint_test_II\\\\_data_analysis\\\\test_photo\\\\19_01_2024\\\\14.jpg')\n",
    "x15 = plt.imread('C:\\\\Users\\\\user\\\\Desktop\\\\sprint_test_II\\\\_data_analysis\\\\test_photo\\\\19_01_2024\\\\15.jpg')\n",
    "x16 = plt.imread('C:\\\\Users\\\\user\\\\Desktop\\\\sprint_test_II\\\\_data_analysis\\\\test_photo\\\\19_01_2024\\\\16.jpg')"
   ]
  },
  {
   "cell_type": "code",
   "execution_count": 58,
   "id": "48c99802-d48b-4711-9db8-cdee7ebc3776",
   "metadata": {
    "tags": []
   },
   "outputs": [
    {
     "name": "stdout",
     "output_type": "stream",
     "text": [
      "1/1 [==============================] - 0s 55ms/step\n",
      "1/1 [==============================] - 0s 19ms/step\n",
      "8\n",
      "1/1 [==============================] - 0s 52ms/step\n",
      "1/1 [==============================] - 0s 21ms/step\n",
      "8\n",
      "1/1 [==============================] - 0s 57ms/step\n",
      "1/1 [==============================] - 0s 27ms/step\n",
      "9\n",
      "1/1 [==============================] - 0s 57ms/step\n",
      "1/1 [==============================] - 0s 21ms/step\n",
      "9\n",
      "1/1 [==============================] - 0s 58ms/step\n",
      "1/1 [==============================] - 0s 20ms/step\n",
      "9\n",
      "1/1 [==============================] - 0s 57ms/step\n",
      "1/1 [==============================] - 0s 20ms/step\n",
      "9\n",
      "1/1 [==============================] - 0s 60ms/step\n",
      "1/1 [==============================] - 0s 23ms/step\n",
      "8\n"
     ]
    }
   ],
   "source": [
    "print(model_predict(x10, new_conv))\n",
    "print(model_predict(x11, new_conv))\n",
    "print(model_predict(x12, new_conv))\n",
    "print(model_predict(x13, new_conv))\n",
    "print(model_predict(x14, new_conv))\n",
    "print(model_predict(x15, new_conv))\n",
    "print(model_predict(x16, new_conv))"
   ]
  },
  {
   "cell_type": "code",
   "execution_count": 59,
   "id": "81b5930a-c3c5-4821-ad5a-ac1adbfb132c",
   "metadata": {},
   "outputs": [
    {
     "name": "stdout",
     "output_type": "stream",
     "text": [
      "1/1 [==============================] - 0s 57ms/step\n",
      "1/1 [==============================] - 0s 19ms/step\n",
      "12\n"
     ]
    }
   ],
   "source": [
    "x11 = plt.imread(\"C:/Users/user/Downloads/sky-988796_1280.jpg\")\n",
    "print(model_predict(x11, new_conv))"
   ]
  },
  {
   "cell_type": "code",
   "execution_count": 60,
   "id": "e5509f1d-b28a-4f93-b90e-f3c48bb28cd9",
   "metadata": {},
   "outputs": [
    {
     "name": "stdout",
     "output_type": "stream",
     "text": [
      "1/1 [==============================] - 0s 58ms/step\n",
      "1/1 [==============================] - 0s 19ms/step\n",
      "3\n",
      "1/1 [==============================] - 0s 56ms/step\n",
      "1/1 [==============================] - 0s 21ms/step\n",
      "4\n"
     ]
    }
   ],
   "source": [
    "x22 = plt.imread(\"C:/Users/user/Downloads/9942CA335B6BA91C36.jpg\")\n",
    "print(model_predict(x22, new_conv))\n",
    "x22_0 = plt.imread(\"C:/Users/user/Downloads/imageedit_1_8475245097.jpg\")\n",
    "print(model_predict(x22_0, new_conv))"
   ]
  },
  {
   "cell_type": "code",
   "execution_count": 61,
   "id": "0ffa2934-e685-4e0d-aeaa-a515c9cd1333",
   "metadata": {},
   "outputs": [
    {
     "name": "stdout",
     "output_type": "stream",
     "text": [
      "1/1 [==============================] - 0s 57ms/step\n",
      "1/1 [==============================] - 0s 19ms/step\n",
      "8\n",
      "1/1 [==============================] - 0s 55ms/step\n",
      "1/1 [==============================] - 0s 22ms/step\n",
      "9\n",
      "1/1 [==============================] - 0s 55ms/step\n",
      "1/1 [==============================] - 0s 21ms/step\n",
      "9\n"
     ]
    }
   ],
   "source": [
    "x33 = plt.imread(\"C:/Users/user/Downloads/KakaoTalk_20240124_125030057.jpg\")\n",
    "print(model_predict(x33, new_conv))\n",
    "x33_1 = plt.imread(\"C:/Users/user/Downloads/KakaoTalk_20240124_125030057_02.jpg\")\n",
    "print(model_predict(x33_1, new_conv))\n",
    "x33_2 = plt.imread(\"C:/Users/user/Downloads/KakaoTalk_20240124_125030057_03.jpg\")\n",
    "print(model_predict(x33_2, new_conv))"
   ]
  },
  {
   "cell_type": "code",
   "execution_count": null,
   "id": "2e0f52ae-a983-4b4b-8134-8c5d879d80a4",
   "metadata": {},
   "outputs": [],
   "source": [
    "x33_2 = plt.imread(\"C:/Users/user/Downloads/KakaoTalk_20240124_125030057_03.jpg\")\n",
    "print(model_predict(x33_2, new_conv))"
   ]
  },
  {
   "cell_type": "code",
   "execution_count": 62,
   "id": "49f2689e-5e4c-43de-8355-b4598570b6e6",
   "metadata": {},
   "outputs": [
    {
     "name": "stdout",
     "output_type": "stream",
     "text": [
      "1/1 [==============================] - 0s 59ms/step\n",
      "1/1 [==============================] - 0s 18ms/step\n",
      "0\n",
      "1/1 [==============================] - 0s 55ms/step\n",
      "1/1 [==============================] - 0s 19ms/step\n",
      "0\n",
      "1/1 [==============================] - 0s 56ms/step\n",
      "1/1 [==============================] - 0s 22ms/step\n",
      "0\n",
      "1/1 [==============================] - 0s 55ms/step\n",
      "1/1 [==============================] - 0s 21ms/step\n",
      "0\n"
     ]
    }
   ],
   "source": [
    "x1 = plt.imread(\"C:/Users/user/Desktop/sprint_test_II/_data_analysis/Low-res sky images kaggle/Sky images/12_09_2019/Images/2753.jpg\")\n",
    "print(model_predict(x1, new_conv))\n",
    "x2 = plt.imread(\"C:/Users/user/Desktop/sprint_test_II/_data_analysis/Low-res sky images kaggle/Sky images/12_09_2019/Images/2813.jpg\")\n",
    "print(model_predict(x2, new_conv))\n",
    "x3 = plt.imread(\"C:/Users/user/Desktop/sprint_test_II/_data_analysis/Low-res sky images kaggle/Sky images/12_09_2019/Images/2844.jpg\")\n",
    "print(model_predict(x3, new_conv))\n",
    "x4 = plt.imread(\"C:/Users/user/Desktop/sprint_test_II/_data_analysis/Low-res sky images kaggle/Sky images/12_09_2019/Images/2989.jpg\")\n",
    "print(model_predict(x4, new_conv))"
   ]
  },
  {
   "cell_type": "code",
   "execution_count": null,
   "id": "9200d615-3a00-41c9-9aea-c9fce8b2ffbd",
   "metadata": {},
   "outputs": [],
   "source": []
  }
 ],
 "metadata": {
  "kernelspec": {
   "display_name": "Python 3 (ipykernel)",
   "language": "python",
   "name": "python3"
  },
  "language_info": {
   "codemirror_mode": {
    "name": "ipython",
    "version": 3
   },
   "file_extension": ".py",
   "mimetype": "text/x-python",
   "name": "python",
   "nbconvert_exporter": "python",
   "pygments_lexer": "ipython3",
   "version": "3.11.4"
  }
 },
 "nbformat": 4,
 "nbformat_minor": 5
}
